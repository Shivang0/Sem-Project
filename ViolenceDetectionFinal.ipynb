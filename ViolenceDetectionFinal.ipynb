{
  "cells": [
    {
      "cell_type": "markdown",
      "metadata": {
        "id": "-x-x2hhlOKkl"
      },
      "source": [
        "# Violence Detection using CNN + LSTM neural netowrk"
      ]
    },
    {
      "cell_type": "markdown",
      "metadata": {
        "id": "nRQW1dLqOVO_"
      },
      "source": [
        "## Introduction"
      ]
    },
    {
      "cell_type": "markdown",
      "metadata": {
        "id": "a1iagEQ3OXEn"
      },
      "source": [
        "Today, the amount of public violence has increased dramatically. As much in high schools as in the street. This has resulted in the ubiquitous use of surveillance cameras. This has helped the authorities to identify these events and take the necessary measures. But almost all systems today require the human-inspection of these videos to identify such events, which is virtually inefficient. It is therefore necessary to have such a practical system that can automatically monitor and identify the surveillance videos.\n",
        "The development of various deep learning techniques, thanks to the availability of large data sets and computational resources, has resulted in a historic change in the community of computer vision. Various techniques have been developed to address problems such as object detection, recognition, tracking, action recognition, legend generation, etc. However, despite recent developments in deep learning, very few techniques based on deep learning have been proposed to address the problem of detecting violence from videos."
      ]
    },
    {
      "cell_type": "markdown",
      "metadata": {
        "id": "L8w5vbqMObaw"
      },
      "source": [
        "## Flowchart"
      ]
    },
    {
      "cell_type": "markdown",
      "metadata": {
        "id": "6kz7yE3kOgMk"
      },
      "source": [
        "The method consists of extracting a set of frames belonging to the video, sending them to a pretrained network called VGG16, obtaining the output of one of its final layers and from these outputs train another network architecture with a type of special neurons called LSTM. These neurons have memory and are able to analyze the temporal information of the video, if at any time they detect violence, it will be classified as a violent video.\n",
        "\n",
        "\n",
        "\n"
      ]
    },
    {
      "cell_type": "markdown",
      "metadata": {
        "id": "UVXa7uMnOlkp"
      },
      "source": [
        "## Imports"
      ]
    },
    {
      "cell_type": "code",
      "execution_count": null,
      "metadata": {
        "colab": {
          "base_uri": "https://localhost:8080/"
        },
        "id": "K10pdHlVkUrk",
        "outputId": "91b4d9e4-b9b2-474f-fb31-7f13317b3b28"
      },
      "outputs": [
        {
          "output_type": "stream",
          "name": "stdout",
          "text": [
            "Collecting wget\n",
            "  Downloading wget-3.2.zip (10 kB)\n",
            "Building wheels for collected packages: wget\n",
            "  Building wheel for wget (setup.py) ... \u001b[?25l\u001b[?25hdone\n",
            "  Created wheel for wget: filename=wget-3.2-py3-none-any.whl size=9675 sha256=1cb9ca103b641754612f6f504df55fdbc4e99e1ce6cb90ae3d2edba3ab447cc5\n",
            "  Stored in directory: /root/.cache/pip/wheels/a1/b6/7c/0e63e34eb06634181c63adacca38b79ff8f35c37e3c13e3c02\n",
            "Successfully built wget\n",
            "Installing collected packages: wget\n",
            "Successfully installed wget-3.2\n"
          ]
        }
      ],
      "source": [
        "pip install wget"
      ]
    },
    {
      "cell_type": "code",
      "execution_count": null,
      "metadata": {
        "id": "oDfDnlliPMd-"
      },
      "outputs": [],
      "source": [
        "%matplotlib inline\n",
        "import cv2\n",
        "import os\n",
        "import numpy as np\n",
        "import keras\n",
        "import matplotlib.pyplot as plt\n",
        "import wget\n",
        "from random import shuffle\n",
        "from keras.applications.vgg16 import VGG16\n",
        "from keras import backend as K\n",
        "from keras.models import Model, Sequential\n",
        "from keras.layers import Input\n",
        "from keras.layers import LSTM\n",
        "from keras.layers import Dense, Activation\n",
        "import sys\n",
        "import h5py"
      ]
    },
    {
      "cell_type": "code",
      "execution_count": null,
      "metadata": {
        "colab": {
          "base_uri": "https://localhost:8080/",
          "height": 35
        },
        "id": "kFU6Qg8mPXvv",
        "outputId": "71bb1f04-4a81-4cc0-ee3b-6ffb17d94be4"
      },
      "outputs": [
        {
          "output_type": "execute_result",
          "data": {
            "application/vnd.google.colaboratory.intrinsic+json": {
              "type": "string"
            },
            "text/plain": [
              "'2.7.0'"
            ]
          },
          "metadata": {},
          "execution_count": 3
        }
      ],
      "source": [
        "keras.__version__"
      ]
    },
    {
      "cell_type": "markdown",
      "metadata": {
        "id": "v6pf1l28PzIO"
      },
      "source": [
        "## Helper Functions"
      ]
    },
    {
      "cell_type": "markdown",
      "metadata": {
        "id": "WKnyJkf8PzxE"
      },
      "source": [
        "We will use the function ```print_progress``` to print the amount of videos processed and ```download_data``` to download the datasets"
      ]
    },
    {
      "cell_type": "code",
      "execution_count": null,
      "metadata": {
        "id": "qnafWmS7P3CG"
      },
      "outputs": [],
      "source": [
        "def print_progress(count, max_count):\n",
        "    # Percentage completion.\n",
        "    pct_complete = count / max_count\n",
        "\n",
        "    # Status-message. Note the \\r which means the line should\n",
        "    # overwrite itself.\n",
        "    msg = \"\\r- Progress: {0:.1%}\".format(pct_complete)\n",
        "\n",
        "    # Print it.\n",
        "    sys.stdout.write(msg)\n",
        "    sys.stdout.flush()"
      ]
    },
    {
      "cell_type": "code",
      "execution_count": null,
      "metadata": {
        "id": "j1V5cxltP5U-"
      },
      "outputs": [],
      "source": [
        "def download_data(in_dir, url):\n",
        "    \n",
        "    if not os.path.exists(in_dir):\n",
        "        os.makedirs(in_dir)\n",
        "    \n",
        "    wget.download(url,in_dir)"
      ]
    },
    {
      "cell_type": "markdown",
      "metadata": {
        "id": "tRf-KgkjP9Kt"
      },
      "source": [
        "## Load Data\n",
        "\n",
        "Firstly, we define the directory to place the video dataset"
      ]
    },
    {
      "cell_type": "code",
      "execution_count": null,
      "metadata": {
        "id": "RiRKgwBgP-NY"
      },
      "outputs": [],
      "source": [
        "in_dir = \"data\""
      ]
    },
    {
      "cell_type": "markdown",
      "metadata": {
        "id": "reLkhZglQBrD"
      },
      "source": [
        "We set the url to download the dataset"
      ]
    },
    {
      "cell_type": "code",
      "execution_count": null,
      "metadata": {
        "id": "YX0Qk202QCvw"
      },
      "outputs": [],
      "source": [
        "url_hockey = \"http://visilab.etsii.uclm.es/personas/oscar/FightDetection/HockeyFights.zip\""
      ]
    },
    {
      "cell_type": "markdown",
      "metadata": {
        "id": "K7zrKRupRFaz"
      },
      "source": [
        "to download the dataset and decompress it:"
      ]
    },
    {
      "cell_type": "code",
      "execution_count": null,
      "metadata": {
        "id": "urX5VyFzRF-o"
      },
      "outputs": [],
      "source": [
        "download_data(in_dir,url_hockey)"
      ]
    },
    {
      "cell_type": "code",
      "source": [
        "import zipfile\n",
        "zipdir = in_dir+'/HockeyFights.zip'\n",
        "with zipfile.ZipFile(zipdir, 'r') as zip_ref:\n",
        "    zip_ref.extractall(in_dir)"
      ],
      "metadata": {
        "id": "1HpCqU--kxZ-"
      },
      "execution_count": null,
      "outputs": []
    },
    {
      "cell_type": "markdown",
      "metadata": {
        "id": "UCZHrpJjRKky"
      },
      "source": [
        "Copy some of the data-dimensions for convenience."
      ]
    },
    {
      "cell_type": "code",
      "execution_count": null,
      "metadata": {
        "id": "SXTNEj6SRLZZ"
      },
      "outputs": [],
      "source": [
        "# Frame size  \n",
        "img_size = 224\n",
        "\n",
        "img_size_touple = (img_size, img_size)\n",
        "\n",
        "# Number of channels (RGB)\n",
        "num_channels = 3\n",
        "\n",
        "# Flat frame size\n",
        "img_size_flat = img_size * img_size * num_channels\n",
        "\n",
        "# Number of classes for classification (Violence-No Violence)\n",
        "num_classes = 2\n",
        "\n",
        "# Number of files to train\n",
        "_num_files_train = 1\n",
        "\n",
        "# Number of frames per video\n",
        "_images_per_file = 20\n",
        "\n",
        "# Number of frames per training set\n",
        "_num_images_train = _num_files_train * _images_per_file\n",
        "\n",
        "# Video extension\n",
        "video_exts = \".avi\""
      ]
    },
    {
      "cell_type": "markdown",
      "metadata": {
        "id": "Wodq7EaSRSS8"
      },
      "source": [
        "### Helper-function for getting video frames\n",
        "Function used to get 20 frames from a video file and convert the frame to a suitable format for the neural net."
      ]
    },
    {
      "cell_type": "code",
      "execution_count": null,
      "metadata": {
        "id": "eu9c4a-3RVkO"
      },
      "outputs": [],
      "source": [
        "def get_frames(current_dir, file_name):\n",
        "    \n",
        "    in_file = os.path.join(current_dir, file_name)\n",
        "    \n",
        "    images = []\n",
        "    \n",
        "    vidcap = cv2.VideoCapture(in_file)\n",
        "    \n",
        "    success,image = vidcap.read()\n",
        "        \n",
        "    count = 0\n",
        "\n",
        "    while count<_images_per_file:\n",
        "                \n",
        "        RGB_img = cv2.cvtColor(image, cv2.COLOR_BGR2RGB)\n",
        "    \n",
        "        res = cv2.resize(RGB_img, dsize=(img_size, img_size),\n",
        "                                 interpolation=cv2.INTER_CUBIC)\n",
        "    \n",
        "        images.append(res)\n",
        "    \n",
        "        success,image = vidcap.read()\n",
        "    \n",
        "        count += 1\n",
        "        \n",
        "    resul = np.array(images)\n",
        "    \n",
        "    resul = (resul / 255.).astype(np.float16)\n",
        "        \n",
        "    return resul"
      ]
    },
    {
      "cell_type": "markdown",
      "metadata": {
        "id": "tLCjYFBtRZb-"
      },
      "source": [
        "### Helper function to get the names of the data downloaded and label it"
      ]
    },
    {
      "cell_type": "code",
      "execution_count": null,
      "metadata": {
        "id": "Qiv5NIJjRbIA"
      },
      "outputs": [],
      "source": [
        "def label_video_names(in_dir):\n",
        "    \n",
        "    # list containing video names\n",
        "    names = []\n",
        "    # list containin video labels [1, 0] if it has violence and [0, 1] if not\n",
        "    labels = []\n",
        "    \n",
        "    \n",
        "    for current_dir, dir_names,file_names in os.walk(in_dir):\n",
        "        \n",
        "        for file_name in file_names:\n",
        "            \n",
        "            if file_name[0:2] == 'fi':\n",
        "                labels.append([1,0])\n",
        "                names.append(file_name)\n",
        "            elif file_name[0:2] == 'no':\n",
        "                labels.append([0,1])\n",
        "                names.append(file_name)\n",
        "                     \n",
        "            \n",
        "    c = list(zip(names,labels))\n",
        "    # Suffle the data (names and labels)\n",
        "    shuffle(c)\n",
        "    \n",
        "    names, labels = zip(*c)\n",
        "            \n",
        "    return names, labels"
      ]
    },
    {
      "cell_type": "markdown",
      "metadata": {
        "id": "t3KW2kfgReKn"
      },
      "source": [
        "### Plot a video frame to see if data is correct"
      ]
    },
    {
      "cell_type": "code",
      "execution_count": null,
      "metadata": {
        "id": "dIsaAgcyRfIx"
      },
      "outputs": [],
      "source": [
        "# First get the names and labels of the whole videos\n",
        "names, labels = label_video_names(in_dir)"
      ]
    },
    {
      "cell_type": "markdown",
      "metadata": {
        "id": "EqucOMsJRgqm"
      },
      "source": [
        "Then we are going to load 20 frames of one video, for example"
      ]
    },
    {
      "cell_type": "code",
      "execution_count": null,
      "metadata": {
        "colab": {
          "base_uri": "https://localhost:8080/",
          "height": 35
        },
        "id": "xUfZO-0BRj0f",
        "outputId": "f1bf8bbd-ab65-4e8b-e238-5973ab7618c1"
      },
      "outputs": [
        {
          "output_type": "execute_result",
          "data": {
            "application/vnd.google.colaboratory.intrinsic+json": {
              "type": "string"
            },
            "text/plain": [
              "'fi146_xvid.avi'"
            ]
          },
          "metadata": {},
          "execution_count": 14
        }
      ],
      "source": [
        "names[12]"
      ]
    },
    {
      "cell_type": "markdown",
      "metadata": {
        "id": "ORGJ2pS9RnWw"
      },
      "source": [
        "The video has violence, look at the name of the video, starts with 'fi'"
      ]
    },
    {
      "cell_type": "code",
      "execution_count": null,
      "metadata": {
        "id": "EqBi8z6rRoMW"
      },
      "outputs": [],
      "source": [
        "frames = get_frames(in_dir, names[12])"
      ]
    },
    {
      "cell_type": "markdown",
      "metadata": {
        "id": "vtgQEmI6RrmM"
      },
      "source": [
        "Convert back the frames to uint8 pixel format to plot the frame"
      ]
    },
    {
      "cell_type": "code",
      "execution_count": null,
      "metadata": {
        "id": "9ihSA_ogRsNU"
      },
      "outputs": [],
      "source": [
        "visible_frame = (frames*255).astype('uint8')"
      ]
    },
    {
      "cell_type": "code",
      "execution_count": null,
      "metadata": {
        "colab": {
          "base_uri": "https://localhost:8080/",
          "height": 286
        },
        "id": "PM1kNhaHRvSv",
        "outputId": "29a4b824-3b45-4c0b-b114-806ca47fb867"
      },
      "outputs": [
        {
          "output_type": "execute_result",
          "data": {
            "text/plain": [
              "<matplotlib.image.AxesImage at 0x7fa6dd296250>"
            ]
          },
          "metadata": {},
          "execution_count": 17
        },
        {
          "output_type": "display_data",
          "data": {
            "image/png": "[encoded data removed]",
            "text/plain": [
              "<Figure size 432x288 with 1 Axes>"
            ]
          },
          "metadata": {
            "needs_background": "light"
          }
        }
      ],
      "source": [
        "plt.imshow(visible_frame[3])"
      ]
    },
    {
      "cell_type": "code",
      "execution_count": null,
      "metadata": {
        "colab": {
          "base_uri": "https://localhost:8080/",
          "height": 286
        },
        "id": "_gVWtYPvR8n2",
        "outputId": "9f571955-e291-4301-d291-4a01ebddc00d"
      },
      "outputs": [
        {
          "output_type": "execute_result",
          "data": {
            "text/plain": [
              "<matplotlib.image.AxesImage at 0x7fa6dc5803d0>"
            ]
          },
          "metadata": {},
          "execution_count": 18
        },
        {
          "output_type": "display_data",
          "data": {
            "image/png": "[encoded data removed]",
            "text/plain": [
              "<Figure size 432x288 with 1 Axes>"
            ]
          },
          "metadata": {
            "needs_background": "light"
          }
        }
      ],
      "source": [
        "plt.imshow(visible_frame[15])"
      ]
    },
    {
      "cell_type": "markdown",
      "metadata": {
        "id": "sF1QieG5SANp"
      },
      "source": [
        "## Pre-Trained Model: VGG16"
      ]
    },
    {
      "cell_type": "markdown",
      "metadata": {
        "id": "0o6FA6slSA1l"
      },
      "source": [
        "The following creates an instance of the pre-trained VGG16 model using the Keras API. This automatically downloads the required files if you don't have them already.\n",
        "\n",
        "The VGG16 model contains a convolutional part and a fully-connected (or dense) part which is used for classification. If include_top=True then the whole VGG16 model is downloaded which is about 528 MB. If include_top=False then only the convolutional part of the VGG16 model is downloaded which is just 57 MB."
      ]
    },
    {
      "cell_type": "code",
      "execution_count": null,
      "metadata": {
        "colab": {
          "base_uri": "https://localhost:8080/"
        },
        "id": "MjRN6oE4SC81",
        "outputId": "5be4069f-7123-4ff7-a64a-9e222aca195b"
      },
      "outputs": [
        {
          "output_type": "stream",
          "name": "stdout",
          "text": [
            "Downloading data from https://storage.googleapis.com/tensorflow/keras-applications/vgg16/vgg16_weights_tf_dim_ordering_tf_kernels.h5\n",
            "553467904/553467096 [==============================] - 3s 0us/step\n",
            "553476096/553467096 [==============================] - 3s 0us/step\n"
          ]
        }
      ],
      "source": [
        "image_model = VGG16(include_top=True, weights='imagenet')"
      ]
    },
    {
      "cell_type": "markdown",
      "metadata": {
        "id": "P_7z-y1mSPov"
      },
      "source": [
        "Let's see the model summary"
      ]
    },
    {
      "cell_type": "code",
      "execution_count": null,
      "metadata": {
        "colab": {
          "base_uri": "https://localhost:8080/"
        },
        "id": "ud7OU0t7SQPi",
        "outputId": "5703bed4-e38c-440d-f59e-dab8ccef1d71"
      },
      "outputs": [
        {
          "output_type": "stream",
          "name": "stdout",
          "text": [
            "Model: \"vgg16\"\n",
            "_________________________________________________________________\n",
            " Layer (type)                Output Shape              Param #   \n",
            "=================================================================\n",
            " input_1 (InputLayer)        [(None, 224, 224, 3)]     0         \n",
            "                                                                 \n",
            " block1_conv1 (Conv2D)       (None, 224, 224, 64)      1792      \n",
            "                                                                 \n",
            " block1_conv2 (Conv2D)       (None, 224, 224, 64)      36928     \n",
            "                                                                 \n",
            " block1_pool (MaxPooling2D)  (None, 112, 112, 64)      0         \n",
            "                                                                 \n",
            " block2_conv1 (Conv2D)       (None, 112, 112, 128)     73856     \n",
            "                                                                 \n",
            " block2_conv2 (Conv2D)       (None, 112, 112, 128)     147584    \n",
            "                                                                 \n",
            " block2_pool (MaxPooling2D)  (None, 56, 56, 128)       0         \n",
            "                                                                 \n",
            " block3_conv1 (Conv2D)       (None, 56, 56, 256)       295168    \n",
            "                                                                 \n",
            " block3_conv2 (Conv2D)       (None, 56, 56, 256)       590080    \n",
            "                                                                 \n",
            " block3_conv3 (Conv2D)       (None, 56, 56, 256)       590080    \n",
            "                                                                 \n",
            " block3_pool (MaxPooling2D)  (None, 28, 28, 256)       0         \n",
            "                                                                 \n",
            " block4_conv1 (Conv2D)       (None, 28, 28, 512)       1180160   \n",
            "                                                                 \n",
            " block4_conv2 (Conv2D)       (None, 28, 28, 512)       2359808   \n",
            "                                                                 \n",
            " block4_conv3 (Conv2D)       (None, 28, 28, 512)       2359808   \n",
            "                                                                 \n",
            " block4_pool (MaxPooling2D)  (None, 14, 14, 512)       0         \n",
            "                                                                 \n",
            " block5_conv1 (Conv2D)       (None, 14, 14, 512)       2359808   \n",
            "                                                                 \n",
            " block5_conv2 (Conv2D)       (None, 14, 14, 512)       2359808   \n",
            "                                                                 \n",
            " block5_conv3 (Conv2D)       (None, 14, 14, 512)       2359808   \n",
            "                                                                 \n",
            " block5_pool (MaxPooling2D)  (None, 7, 7, 512)         0         \n",
            "                                                                 \n",
            " flatten (Flatten)           (None, 25088)             0         \n",
            "                                                                 \n",
            " fc1 (Dense)                 (None, 4096)              102764544 \n",
            "                                                                 \n",
            " fc2 (Dense)                 (None, 4096)              16781312  \n",
            "                                                                 \n",
            " predictions (Dense)         (None, 1000)              4097000   \n",
            "                                                                 \n",
            "=================================================================\n",
            "Total params: 138,357,544\n",
            "Trainable params: 138,357,544\n",
            "Non-trainable params: 0\n",
            "_________________________________________________________________\n"
          ]
        }
      ],
      "source": [
        "image_model.summary()"
      ]
    },
    {
      "cell_type": "markdown",
      "metadata": {
        "id": "-NxnGLlDSTwr"
      },
      "source": [
        "We can observe the shape of the tensors expected as input by the pre-trained VGG16 model. In this case it is images of shape 224 x 224 x 3. Note that we have defined the frame size as 224x224x3. The video frame will be the input of the VGG16 net."
      ]
    },
    {
      "cell_type": "code",
      "execution_count": null,
      "metadata": {
        "colab": {
          "base_uri": "https://localhost:8080/"
        },
        "id": "9a0k89M5SUjP",
        "outputId": "af3c9c61-16d4-4a6a-9d46-9f580f81c48c"
      },
      "outputs": [
        {
          "output_type": "execute_result",
          "data": {
            "text/plain": [
              "[]"
            ]
          },
          "metadata": {},
          "execution_count": 21
        }
      ],
      "source": [
        "input_shape = image_model.layers[0].output_shape[1:3]\n",
        "input_shape"
      ]
    },
    {
      "cell_type": "markdown",
      "metadata": {
        "id": "kMR6iqg4SaOl"
      },
      "source": [
        "### VGG16 model flowchart"
      ]
    },
    {
      "cell_type": "markdown",
      "metadata": {
        "id": "qFUDqTiBSa0H"
      },
      "source": [
        "The following chart shows how the data flows when using the VGG16 model for Transfer Learning. First we input and process 20 video frames in batch with the VGG16 model. Just prior to the final classification layer of the VGG16 model, we save the so-called Transfer Values to a cache-file.\n",
        "\n",
        "The reason for using a cache-file is that it takes a long time to process an image with the VGG16 model. If each image is processed more than once then we can save a lot of time by caching the transfer-values.\n",
        "\n",
        "When all the videos have been processed through the VGG16 model and the resulting transfer-values saved to a cache file, then we can use those transfer-values as the input to LSTM neural network. We will then train the second neural network using the classes from the violence dataset (Violence, No-Violence), so the network learns how to classify images based on the transfer-values from the VGG16 model."
      ]
    },
    {
      "cell_type": "code",
      "execution_count": null,
      "metadata": {
        "colab": {
          "base_uri": "https://localhost:8080/"
        },
        "id": "4YWFA-2tSdfB",
        "outputId": "4d7ff441-22a4-4d9d-f8fe-f35788cca129"
      },
      "outputs": [
        {
          "output_type": "stream",
          "name": "stdout",
          "text": [
            "The input of the VGG16 net have dimensions: (224, 224)\n",
            "The output of the selecter layer of VGG16 net have dimensions:  4096\n"
          ]
        }
      ],
      "source": [
        "# We will use the output of the layer prior to the final\n",
        "# classification-layer which is named fc2. This is a fully-connected (or dense) layer.\n",
        "transfer_layer = image_model.get_layer('fc2')\n",
        "\n",
        "image_model_transfer = Model(inputs=image_model.input,\n",
        "                             outputs=transfer_layer.output)\n",
        "\n",
        "transfer_values_size = K.int_shape(transfer_layer.output)[1]\n",
        "\n",
        "\n",
        "print(\"The input of the VGG16 net have dimensions:\",K.int_shape(image_model.input)[1:3])\n",
        "\n",
        "print(\"The output of the selecter layer of VGG16 net have dimensions: \", transfer_values_size)"
      ]
    },
    {
      "cell_type": "markdown",
      "metadata": {
        "id": "1ghum6s2Si1n"
      },
      "source": [
        "### Function to process 20 video frames through VGG16 and get transfer values"
      ]
    },
    {
      "cell_type": "code",
      "execution_count": null,
      "metadata": {
        "id": "-AdxYAtiSlLF"
      },
      "outputs": [],
      "source": [
        "def get_transfer_values(current_dir, file_name):\n",
        "    \n",
        "    # Pre-allocate input-batch-array for images.\n",
        "    shape = (_images_per_file,) + img_size_touple + (3,)\n",
        "    \n",
        "    image_batch = np.zeros(shape=shape, dtype=np.float16)\n",
        "    \n",
        "    image_batch = get_frames(current_dir, file_name)\n",
        "      \n",
        "    # Pre-allocate output-array for transfer-values.\n",
        "    # Note that we use 16-bit floating-points to save memory.\n",
        "    shape = (_images_per_file, transfer_values_size)\n",
        "    transfer_values = np.zeros(shape=shape, dtype=np.float16)\n",
        "\n",
        "    transfer_values = \\\n",
        "            image_model_transfer.predict(image_batch)\n",
        "            \n",
        "    return transfer_values"
      ]
    },
    {
      "cell_type": "markdown",
      "metadata": {
        "id": "HGdRIG6oSooG"
      },
      "source": [
        "### Generator that process one video through VGG16 each function call"
      ]
    },
    {
      "cell_type": "code",
      "execution_count": null,
      "metadata": {
        "id": "D2BvaY3eSpSH"
      },
      "outputs": [],
      "source": [
        "def proces_transfer(vid_names, in_dir, labels):\n",
        "    \n",
        "    count = 0\n",
        "    \n",
        "    tam = len(vid_names)\n",
        "    \n",
        "    # Pre-allocate input-batch-array for images.\n",
        "    shape = (_images_per_file,) + img_size_touple + (3,)\n",
        "    \n",
        "    while count<tam:\n",
        "        \n",
        "        video_name = vid_names[count]\n",
        "        \n",
        "        image_batch = np.zeros(shape=shape, dtype=np.float16)\n",
        "    \n",
        "        image_batch = get_frames(in_dir, video_name)\n",
        "        \n",
        "         # Note that we use 16-bit floating-points to save memory.\n",
        "        shape = (_images_per_file, transfer_values_size)\n",
        "        transfer_values = np.zeros(shape=shape, dtype=np.float16)\n",
        "        \n",
        "        transfer_values = \\\n",
        "            image_model_transfer.predict(image_batch)\n",
        "         \n",
        "        labels1 = labels[count]\n",
        "        \n",
        "        aux = np.ones([20,2])\n",
        "        \n",
        "        labelss = labels1*aux\n",
        "        \n",
        "        yield transfer_values, labelss\n",
        "        \n",
        "        count+=1"
      ]
    },
    {
      "cell_type": "markdown",
      "metadata": {
        "id": "I-Cnv0fRSswF"
      },
      "source": [
        "### Functions to save transfer values from VGG16 to later use\n",
        "We are going to define functions to get the transfer values from VGG16 with defined number of files. Then save the transfer values files used from training in one file and the ones uses for testing in another one. "
      ]
    },
    {
      "cell_type": "code",
      "execution_count": null,
      "metadata": {
        "id": "tvU53ypSSvL0"
      },
      "outputs": [],
      "source": [
        "def make_files(n_files):\n",
        "    \n",
        "    gen = proces_transfer(names_training, in_dir, labels_training)\n",
        "\n",
        "    numer = 1\n",
        "\n",
        "    # Read the first chunk to get the column dtypes\n",
        "    chunk = next(gen)\n",
        "\n",
        "    row_count = chunk[0].shape[0]\n",
        "    row_count2 = chunk[1].shape[0]\n",
        "    \n",
        "    with h5py.File('prueba.h5', 'w') as f:\n",
        "    \n",
        "        # Initialize a resizable dataset to hold the output\n",
        "        maxshape = (None,) + chunk[0].shape[1:]\n",
        "        maxshape2 = (None,) + chunk[1].shape[1:]\n",
        "    \n",
        "    \n",
        "        dset = f.create_dataset('data', shape=chunk[0].shape, maxshape=maxshape,\n",
        "                                chunks=chunk[0].shape, dtype=chunk[0].dtype)\n",
        "    \n",
        "        dset2 = f.create_dataset('labels', shape=chunk[1].shape, maxshape=maxshape2,\n",
        "                                 chunks=chunk[1].shape, dtype=chunk[1].dtype)\n",
        "    \n",
        "         # Write the first chunk of rows\n",
        "        dset[:] = chunk[0]\n",
        "        dset2[:] = chunk[1]\n",
        "\n",
        "        for chunk in gen:\n",
        "            \n",
        "            if numer == n_files:\n",
        "            \n",
        "                break\n",
        "\n",
        "            # Resize the dataset to accommodate the next chunk of rows\n",
        "            dset.resize(row_count + chunk[0].shape[0], axis=0)\n",
        "            dset2.resize(row_count2 + chunk[1].shape[0], axis=0)\n",
        "\n",
        "            # Write the next chunk\n",
        "            dset[row_count:] = chunk[0]\n",
        "            dset2[row_count:] = chunk[1]\n",
        "\n",
        "            # Increment the row count\n",
        "            row_count += chunk[0].shape[0]\n",
        "            row_count2 += chunk[1].shape[0]\n",
        "            \n",
        "            print_progress(numer, n_files)\n",
        "        \n",
        "            numer += 1"
      ]
    },
    {
      "cell_type": "code",
      "execution_count": null,
      "metadata": {
        "id": "8nK8uFExS0nX"
      },
      "outputs": [],
      "source": [
        "def make_files_test(n_files):\n",
        "    \n",
        "    gen = proces_transfer(names_test, in_dir, labels_test)\n",
        "\n",
        "    numer = 1\n",
        "\n",
        "    # Read the first chunk to get the column dtypes\n",
        "    chunk = next(gen)\n",
        "\n",
        "    row_count = chunk[0].shape[0]\n",
        "    row_count2 = chunk[1].shape[0]\n",
        "    \n",
        "    with h5py.File('pruebavalidation.h5', 'w') as f:\n",
        "    \n",
        "        # Initialize a resizable dataset to hold the output\n",
        "        maxshape = (None,) + chunk[0].shape[1:]\n",
        "        maxshape2 = (None,) + chunk[1].shape[1:]\n",
        "    \n",
        "    \n",
        "        dset = f.create_dataset('data', shape=chunk[0].shape, maxshape=maxshape,\n",
        "                                chunks=chunk[0].shape, dtype=chunk[0].dtype)\n",
        "    \n",
        "        dset2 = f.create_dataset('labels', shape=chunk[1].shape, maxshape=maxshape2,\n",
        "                                 chunks=chunk[1].shape, dtype=chunk[1].dtype)\n",
        "    \n",
        "         # Write the first chunk of rows\n",
        "        dset[:] = chunk[0]\n",
        "        dset2[:] = chunk[1]\n",
        "\n",
        "        for chunk in gen:\n",
        "            \n",
        "            if numer == n_files:\n",
        "            \n",
        "                break\n",
        "\n",
        "            # Resize the dataset to accommodate the next chunk of rows\n",
        "            dset.resize(row_count + chunk[0].shape[0], axis=0)\n",
        "            dset2.resize(row_count2 + chunk[1].shape[0], axis=0)\n",
        "\n",
        "            # Write the next chunk\n",
        "            dset[row_count:] = chunk[0]\n",
        "            dset2[row_count:] = chunk[1]\n",
        "\n",
        "            # Increment the row count\n",
        "            row_count += chunk[0].shape[0]\n",
        "            row_count2 += chunk[1].shape[0]\n",
        "            \n",
        "            print_progress(numer, n_files)\n",
        "        \n",
        "            numer += 1"
      ]
    },
    {
      "cell_type": "markdown",
      "metadata": {
        "id": "R9axnZ8dS64T"
      },
      "source": [
        "### Split the dataset into training set and test set\n",
        "We are going to split the dataset into training set and testing. The training set is used to train the model and the test set to check the model accuracy."
      ]
    },
    {
      "cell_type": "code",
      "execution_count": null,
      "metadata": {
        "id": "wjne3svdS9Y3"
      },
      "outputs": [],
      "source": [
        "training_set = int(len(names)*0.8)\n",
        "test_set = int(len(names)*0.2)\n",
        "\n",
        "names_training = names[0:training_set]\n",
        "names_test = names[training_set:]\n",
        "\n",
        "labels_training = labels[0:training_set]\n",
        "labels_test = labels[training_set:]"
      ]
    },
    {
      "cell_type": "markdown",
      "metadata": {
        "id": "xmiJi6G7TBnI"
      },
      "source": [
        "Then we are going to process all video frames through VGG16 and save the transfer values."
      ]
    },
    {
      "cell_type": "code",
      "execution_count": null,
      "metadata": {
        "colab": {
          "base_uri": "https://localhost:8080/"
        },
        "id": "pyO9WP-6TER4",
        "outputId": "0a251220-b206-44e0-af9a-85eafbd2fb11"
      },
      "outputs": [
        {
          "output_type": "stream",
          "name": "stdout",
          "text": [
            "- Progress: 99.9%"
          ]
        }
      ],
      "source": [
        "make_files(training_set)"
      ]
    },
    {
      "cell_type": "code",
      "execution_count": null,
      "metadata": {
        "colab": {
          "base_uri": "https://localhost:8080/"
        },
        "id": "0ThoefXUXPrS",
        "outputId": "f4eeccc9-09ff-47d9-d0d8-bdbde7037e69"
      },
      "outputs": [
        {
          "output_type": "stream",
          "name": "stdout",
          "text": [
            "- Progress: 99.5%"
          ]
        }
      ],
      "source": [
        "make_files_test(test_set)"
      ]
    },
    {
      "cell_type": "markdown",
      "metadata": {
        "id": "0s2imcRixMAr"
      },
      "source": [
        "### Load the cached transfer values into memory\n",
        "We have already saved all the videos transfer values into disk. But we have to load those transfer values into memory in order to train the LSTM net. One question would be: why not process transfer values and load them into RAM memory? Yes is a more eficient way to train the second net. But if you have to train the LSTM in different ways in order to see which way gets the best accuracy, if you didn't save the transfer values into disk you would have to process the whole videos each training. It's very time consuming processing the videos through VGG16 net. \n"
      ]
    },
    {
      "cell_type": "markdown",
      "metadata": {
        "id": "RnK1JL-izzeS"
      },
      "source": [
        "In order to load the saved transfer values into RAM memory we are going to use this two functions:"
      ]
    },
    {
      "cell_type": "code",
      "execution_count": null,
      "metadata": {
        "id": "Ez0blP2z0CsF"
      },
      "outputs": [],
      "source": [
        "def process_alldata_training():\n",
        "    \n",
        "    joint_transfer=[]\n",
        "    frames_num=20\n",
        "    count = 0\n",
        "    \n",
        "    with h5py.File('prueba.h5', 'r') as f:\n",
        "            \n",
        "        X_batch = f['data'][:]\n",
        "        y_batch = f['labels'][:]\n",
        "\n",
        "    for i in range(int(len(X_batch)/frames_num)):\n",
        "        inc = count+frames_num\n",
        "        joint_transfer.append([X_batch[count:inc],y_batch[count]])\n",
        "        count =inc\n",
        "        \n",
        "    data =[]\n",
        "    target=[]\n",
        "    \n",
        "    for i in joint_transfer:\n",
        "        data.append(i[0])\n",
        "        target.append(np.array(i[1]))\n",
        "        \n",
        "    return data, target"
      ]
    },
    {
      "cell_type": "code",
      "execution_count": null,
      "metadata": {
        "id": "Dne2XaQ90MGk"
      },
      "outputs": [],
      "source": [
        "def process_alldata_test():\n",
        "    \n",
        "    joint_transfer=[]\n",
        "    frames_num=20\n",
        "    count = 0\n",
        "    \n",
        "    with h5py.File('pruebavalidation.h5', 'r') as f:\n",
        "            \n",
        "        X_batch = f['data'][:]\n",
        "        y_batch = f['labels'][:]\n",
        "\n",
        "    for i in range(int(len(X_batch)/frames_num)):\n",
        "        inc = count+frames_num\n",
        "        joint_transfer.append([X_batch[count:inc],y_batch[count]])\n",
        "        count =inc\n",
        "        \n",
        "    data =[]\n",
        "    target=[]\n",
        "    \n",
        "    for i in joint_transfer:\n",
        "        data.append(i[0])\n",
        "        target.append(np.array(i[1]))\n",
        "        \n",
        "    return data, target"
      ]
    },
    {
      "cell_type": "code",
      "execution_count": null,
      "metadata": {
        "id": "phyhoYc67VW8"
      },
      "outputs": [],
      "source": [
        "data, target = process_alldata_training()"
      ]
    },
    {
      "cell_type": "code",
      "execution_count": null,
      "metadata": {
        "id": "dJpXHvEg7Xhc"
      },
      "outputs": [],
      "source": [
        "data_test, target_test = process_alldata_test()"
      ]
    },
    {
      "cell_type": "markdown",
      "metadata": {
        "id": "Qjaawyqj0arq"
      },
      "source": [
        "##Recurrent Neural Network"
      ]
    },
    {
      "cell_type": "markdown",
      "metadata": {
        "id": "dXFhxfzE0hGb"
      },
      "source": [
        "The basic building block in a Recurrent Neural Network (RNN) is a Recurrent Unit (RU). There are many different variants of recurrent units such as the rather clunky LSTM (Long-Short-Term-Memory) and the somewhat simpler GRU (Gated Recurrent Unit) which we will use in this tutorial. Experiments in the literature suggest that the LSTM and GRU have roughly similar performance. Even simpler variants also exist and the literature suggests that they may perform even better than both LSTM and GRU, but they are not implemented in Keras which we will use in this tutorial.\n",
        "\n",
        "A recurrent neuron has an internal state that is being updated every time the unit receives a new input. This internal state serves as a kind of memory. However, it is not a traditional kind of computer memory which stores bits that are either on or off. Instead the recurrent unit stores floating-point values in its memory-state, which are read and written using matrix-operations so the operations are all differentiable. This means the memory-state can store arbitrary floating-point values (although typically limited between -1.0 and 1.0) and the network can be trained like a normal neural network using Gradient Descent.\n",
        "\n"
      ]
    },
    {
      "cell_type": "markdown",
      "metadata": {
        "id": "BsIrL3ix4Edp"
      },
      "source": [
        "### Define LSTM architecture"
      ]
    },
    {
      "cell_type": "markdown",
      "metadata": {
        "id": "qFiSjMaC4Q1c"
      },
      "source": [
        "When defining the LSTM architecture we have to take into account the dimensions of the transfer values. From each frame the VGG16 network obtains as output a vector of 4096 transfer values. From each video we are processing 20 frames so we will have 20 x 4096 values per video. The classification must be done taking into account the 20 frames of the video. If any of them detects violence, the video will be classified as violent.\n"
      ]
    },
    {
      "cell_type": "markdown",
      "metadata": {
        "id": "HAgSUeVu58N_"
      },
      "source": [
        "The first input dimension of LSTM neurons is the temporal dimension, in our case it is 20. The second is the size of the features vector (transfer values).\n"
      ]
    },
    {
      "cell_type": "code",
      "execution_count": null,
      "metadata": {
        "id": "XWABZ91b6f7l"
      },
      "outputs": [],
      "source": [
        "chunk_size = 4096\n",
        "n_chunks = 20\n",
        "rnn_size = 512\n",
        "\n",
        "model = Sequential()\n",
        "model.add(LSTM(rnn_size, input_shape=(n_chunks, chunk_size)))\n",
        "model.add(Dense(1024))\n",
        "model.add(Activation('relu'))\n",
        "model.add(Dense(50))\n",
        "model.add(Activation('sigmoid'))\n",
        "model.add(Dense(2))\n",
        "model.add(Activation('softmax'))\n",
        "model.compile(loss='mean_squared_error', optimizer='adam',metrics=['accuracy'])"
      ]
    },
    {
      "cell_type": "markdown",
      "metadata": {
        "id": "bVonOPYW7F_b"
      },
      "source": [
        "## Model training\n"
      ]
    },
    {
      "cell_type": "code",
      "execution_count": null,
      "metadata": {
        "colab": {
          "base_uri": "https://localhost:8080/"
        },
        "id": "iRZlW4ZV_ygS",
        "outputId": "952fcad6-d9c4-4244-ffe4-681739e565dd"
      },
      "outputs": [
        {
          "output_type": "stream",
          "name": "stdout",
          "text": [
            "Epoch 1/300\n",
            "2/2 - 3s - loss: 0.3581 - accuracy: 0.4773 - val_loss: 0.2972 - val_accuracy: 0.4800 - 3s/epoch - 2s/step\n",
            "Epoch 2/300\n",
            "2/2 - 0s - loss: 0.2815 - accuracy: 0.4907 - val_loss: 0.2639 - val_accuracy: 0.5200 - 320ms/epoch - 160ms/step\n",
            "Epoch 3/300\n",
            "2/2 - 0s - loss: 0.2649 - accuracy: 0.5040 - val_loss: 0.2483 - val_accuracy: 0.5400 - 319ms/epoch - 160ms/step\n",
            "Epoch 4/300\n",
            "2/2 - 0s - loss: 0.2499 - accuracy: 0.5053 - val_loss: 0.2544 - val_accuracy: 0.4800 - 329ms/epoch - 164ms/step\n",
            "Epoch 5/300\n",
            "2/2 - 0s - loss: 0.2516 - accuracy: 0.4960 - val_loss: 0.2472 - val_accuracy: 0.6400 - 336ms/epoch - 168ms/step\n",
            "Epoch 6/300\n",
            "2/2 - 0s - loss: 0.2471 - accuracy: 0.5973 - val_loss: 0.2461 - val_accuracy: 0.5200 - 323ms/epoch - 162ms/step\n",
            "Epoch 7/300\n",
            "2/2 - 0s - loss: 0.2474 - accuracy: 0.5040 - val_loss: 0.2428 - val_accuracy: 0.5200 - 334ms/epoch - 167ms/step\n",
            "Epoch 8/300\n",
            "2/2 - 0s - loss: 0.2443 - accuracy: 0.5560 - val_loss: 0.2405 - val_accuracy: 0.6200 - 331ms/epoch - 165ms/step\n",
            "Epoch 9/300\n",
            "2/2 - 0s - loss: 0.2395 - accuracy: 0.6413 - val_loss: 0.2336 - val_accuracy: 0.8200 - 328ms/epoch - 164ms/step\n",
            "Epoch 10/300\n",
            "2/2 - 0s - loss: 0.2334 - accuracy: 0.7880 - val_loss: 0.2254 - val_accuracy: 0.7200 - 327ms/epoch - 163ms/step\n",
            "Epoch 11/300\n",
            "2/2 - 0s - loss: 0.2243 - accuracy: 0.7947 - val_loss: 0.2105 - val_accuracy: 0.9000 - 331ms/epoch - 166ms/step\n",
            "Epoch 12/300\n",
            "2/2 - 0s - loss: 0.2089 - accuracy: 0.8973 - val_loss: 0.1948 - val_accuracy: 0.7800 - 325ms/epoch - 162ms/step\n",
            "Epoch 13/300\n",
            "2/2 - 0s - loss: 0.1910 - accuracy: 0.8533 - val_loss: 0.1721 - val_accuracy: 0.9400 - 327ms/epoch - 164ms/step\n",
            "Epoch 14/300\n",
            "2/2 - 0s - loss: 0.1708 - accuracy: 0.8800 - val_loss: 0.1546 - val_accuracy: 0.8200 - 328ms/epoch - 164ms/step\n",
            "Epoch 15/300\n",
            "2/2 - 0s - loss: 0.1453 - accuracy: 0.8733 - val_loss: 0.1187 - val_accuracy: 0.9000 - 339ms/epoch - 169ms/step\n",
            "Epoch 16/300\n",
            "2/2 - 0s - loss: 0.1168 - accuracy: 0.9000 - val_loss: 0.1143 - val_accuracy: 0.8600 - 329ms/epoch - 164ms/step\n",
            "Epoch 17/300\n",
            "2/2 - 0s - loss: 0.1075 - accuracy: 0.8787 - val_loss: 0.1024 - val_accuracy: 0.8800 - 325ms/epoch - 163ms/step\n",
            "Epoch 18/300\n",
            "2/2 - 0s - loss: 0.0926 - accuracy: 0.8880 - val_loss: 0.0847 - val_accuracy: 0.9000 - 319ms/epoch - 160ms/step\n",
            "Epoch 19/300\n",
            "2/2 - 0s - loss: 0.0831 - accuracy: 0.9027 - val_loss: 0.0721 - val_accuracy: 0.9200 - 321ms/epoch - 160ms/step\n",
            "Epoch 20/300\n",
            "2/2 - 0s - loss: 0.0792 - accuracy: 0.9027 - val_loss: 0.0900 - val_accuracy: 0.9000 - 316ms/epoch - 158ms/step\n",
            "Epoch 21/300\n",
            "2/2 - 0s - loss: 0.0827 - accuracy: 0.8920 - val_loss: 0.0649 - val_accuracy: 0.9200 - 331ms/epoch - 165ms/step\n",
            "Epoch 22/300\n",
            "2/2 - 0s - loss: 0.0783 - accuracy: 0.9040 - val_loss: 0.0723 - val_accuracy: 0.9000 - 328ms/epoch - 164ms/step\n",
            "Epoch 23/300\n",
            "2/2 - 0s - loss: 0.0756 - accuracy: 0.9053 - val_loss: 0.0647 - val_accuracy: 0.9200 - 323ms/epoch - 161ms/step\n",
            "Epoch 24/300\n",
            "2/2 - 0s - loss: 0.0739 - accuracy: 0.9093 - val_loss: 0.0762 - val_accuracy: 0.9000 - 328ms/epoch - 164ms/step\n",
            "Epoch 25/300\n",
            "2/2 - 0s - loss: 0.0750 - accuracy: 0.9067 - val_loss: 0.0600 - val_accuracy: 0.9400 - 323ms/epoch - 162ms/step\n",
            "Epoch 26/300\n",
            "2/2 - 0s - loss: 0.0767 - accuracy: 0.9027 - val_loss: 0.0607 - val_accuracy: 0.9200 - 329ms/epoch - 165ms/step\n",
            "Epoch 27/300\n",
            "2/2 - 0s - loss: 0.0716 - accuracy: 0.9187 - val_loss: 0.0732 - val_accuracy: 0.9000 - 322ms/epoch - 161ms/step\n",
            "Epoch 28/300\n",
            "2/2 - 0s - loss: 0.0723 - accuracy: 0.9080 - val_loss: 0.0597 - val_accuracy: 0.9200 - 325ms/epoch - 162ms/step\n",
            "Epoch 29/300\n",
            "2/2 - 0s - loss: 0.0690 - accuracy: 0.9187 - val_loss: 0.0605 - val_accuracy: 0.9200 - 320ms/epoch - 160ms/step\n",
            "Epoch 30/300\n",
            "2/2 - 0s - loss: 0.0673 - accuracy: 0.9200 - val_loss: 0.0635 - val_accuracy: 0.9200 - 332ms/epoch - 166ms/step\n",
            "Epoch 31/300\n",
            "2/2 - 0s - loss: 0.0671 - accuracy: 0.9200 - val_loss: 0.0570 - val_accuracy: 0.9400 - 333ms/epoch - 167ms/step\n",
            "Epoch 32/300\n",
            "2/2 - 0s - loss: 0.0679 - accuracy: 0.9173 - val_loss: 0.0581 - val_accuracy: 0.9200 - 325ms/epoch - 162ms/step\n",
            "Epoch 33/300\n",
            "2/2 - 0s - loss: 0.0642 - accuracy: 0.9240 - val_loss: 0.0576 - val_accuracy: 0.9200 - 323ms/epoch - 161ms/step\n",
            "Epoch 34/300\n",
            "2/2 - 0s - loss: 0.0628 - accuracy: 0.9267 - val_loss: 0.0619 - val_accuracy: 0.9400 - 325ms/epoch - 162ms/step\n",
            "Epoch 35/300\n",
            "2/2 - 0s - loss: 0.0647 - accuracy: 0.9227 - val_loss: 0.0579 - val_accuracy: 0.9200 - 323ms/epoch - 161ms/step\n",
            "Epoch 36/300\n",
            "2/2 - 0s - loss: 0.0633 - accuracy: 0.9227 - val_loss: 0.0591 - val_accuracy: 0.9400 - 323ms/epoch - 161ms/step\n",
            "Epoch 37/300\n",
            "2/2 - 0s - loss: 0.0638 - accuracy: 0.9280 - val_loss: 0.0623 - val_accuracy: 0.9400 - 331ms/epoch - 165ms/step\n",
            "Epoch 38/300\n",
            "2/2 - 0s - loss: 0.0602 - accuracy: 0.9280 - val_loss: 0.0630 - val_accuracy: 0.9200 - 326ms/epoch - 163ms/step\n",
            "Epoch 39/300\n",
            "2/2 - 0s - loss: 0.0657 - accuracy: 0.9160 - val_loss: 0.0668 - val_accuracy: 0.9200 - 315ms/epoch - 158ms/step\n",
            "Epoch 40/300\n",
            "2/2 - 0s - loss: 0.0635 - accuracy: 0.9187 - val_loss: 0.0570 - val_accuracy: 0.9400 - 322ms/epoch - 161ms/step\n",
            "Epoch 41/300\n",
            "2/2 - 0s - loss: 0.0606 - accuracy: 0.9253 - val_loss: 0.0554 - val_accuracy: 0.9400 - 322ms/epoch - 161ms/step\n",
            "Epoch 42/300\n",
            "2/2 - 0s - loss: 0.0565 - accuracy: 0.9360 - val_loss: 0.0573 - val_accuracy: 0.9200 - 331ms/epoch - 166ms/step\n",
            "Epoch 43/300\n",
            "2/2 - 0s - loss: 0.0558 - accuracy: 0.9400 - val_loss: 0.0557 - val_accuracy: 0.9400 - 325ms/epoch - 162ms/step\n",
            "Epoch 44/300\n",
            "2/2 - 0s - loss: 0.0549 - accuracy: 0.9333 - val_loss: 0.0591 - val_accuracy: 0.9400 - 329ms/epoch - 164ms/step\n",
            "Epoch 45/300\n",
            "2/2 - 0s - loss: 0.0551 - accuracy: 0.9347 - val_loss: 0.0576 - val_accuracy: 0.9400 - 324ms/epoch - 162ms/step\n",
            "Epoch 46/300\n",
            "2/2 - 0s - loss: 0.0532 - accuracy: 0.9400 - val_loss: 0.0573 - val_accuracy: 0.9200 - 325ms/epoch - 162ms/step\n",
            "Epoch 47/300\n",
            "2/2 - 0s - loss: 0.0527 - accuracy: 0.9413 - val_loss: 0.0576 - val_accuracy: 0.9400 - 326ms/epoch - 163ms/step\n",
            "Epoch 48/300\n",
            "2/2 - 0s - loss: 0.0510 - accuracy: 0.9387 - val_loss: 0.0563 - val_accuracy: 0.9400 - 324ms/epoch - 162ms/step\n",
            "Epoch 49/300\n",
            "2/2 - 0s - loss: 0.0503 - accuracy: 0.9467 - val_loss: 0.0568 - val_accuracy: 0.9400 - 322ms/epoch - 161ms/step\n",
            "Epoch 50/300\n",
            "2/2 - 0s - loss: 0.0488 - accuracy: 0.9427 - val_loss: 0.0578 - val_accuracy: 0.9400 - 328ms/epoch - 164ms/step\n",
            "Epoch 51/300\n",
            "2/2 - 0s - loss: 0.0509 - accuracy: 0.9400 - val_loss: 0.0566 - val_accuracy: 0.9400 - 326ms/epoch - 163ms/step\n",
            "Epoch 52/300\n",
            "2/2 - 0s - loss: 0.0479 - accuracy: 0.9427 - val_loss: 0.0598 - val_accuracy: 0.9200 - 324ms/epoch - 162ms/step\n",
            "Epoch 53/300\n",
            "2/2 - 0s - loss: 0.0476 - accuracy: 0.9467 - val_loss: 0.0613 - val_accuracy: 0.9200 - 327ms/epoch - 164ms/step\n",
            "Epoch 54/300\n",
            "2/2 - 0s - loss: 0.0502 - accuracy: 0.9427 - val_loss: 0.0712 - val_accuracy: 0.9000 - 323ms/epoch - 161ms/step\n",
            "Epoch 55/300\n",
            "2/2 - 0s - loss: 0.0518 - accuracy: 0.9373 - val_loss: 0.0566 - val_accuracy: 0.9400 - 333ms/epoch - 167ms/step\n",
            "Epoch 56/300\n",
            "2/2 - 0s - loss: 0.0447 - accuracy: 0.9507 - val_loss: 0.0625 - val_accuracy: 0.9200 - 317ms/epoch - 159ms/step\n",
            "Epoch 57/300\n",
            "2/2 - 0s - loss: 0.0489 - accuracy: 0.9440 - val_loss: 0.0692 - val_accuracy: 0.9000 - 326ms/epoch - 163ms/step\n",
            "Epoch 58/300\n",
            "2/2 - 0s - loss: 0.0476 - accuracy: 0.9427 - val_loss: 0.0732 - val_accuracy: 0.9200 - 325ms/epoch - 163ms/step\n",
            "Epoch 59/300\n",
            "2/2 - 0s - loss: 0.0664 - accuracy: 0.9200 - val_loss: 0.0814 - val_accuracy: 0.9000 - 327ms/epoch - 163ms/step\n",
            "Epoch 60/300\n",
            "2/2 - 0s - loss: 0.0596 - accuracy: 0.9280 - val_loss: 0.0761 - val_accuracy: 0.9000 - 327ms/epoch - 164ms/step\n",
            "Epoch 61/300\n",
            "2/2 - 0s - loss: 0.0646 - accuracy: 0.9213 - val_loss: 0.0594 - val_accuracy: 0.9200 - 328ms/epoch - 164ms/step\n",
            "Epoch 62/300\n",
            "2/2 - 0s - loss: 0.0512 - accuracy: 0.9413 - val_loss: 0.0548 - val_accuracy: 0.9400 - 319ms/epoch - 159ms/step\n",
            "Epoch 63/300\n",
            "2/2 - 0s - loss: 0.0479 - accuracy: 0.9467 - val_loss: 0.0560 - val_accuracy: 0.9400 - 328ms/epoch - 164ms/step\n",
            "Epoch 64/300\n",
            "2/2 - 0s - loss: 0.0438 - accuracy: 0.9507 - val_loss: 0.0646 - val_accuracy: 0.9200 - 332ms/epoch - 166ms/step\n",
            "Epoch 65/300\n",
            "2/2 - 0s - loss: 0.0525 - accuracy: 0.9413 - val_loss: 0.0627 - val_accuracy: 0.9200 - 327ms/epoch - 164ms/step\n",
            "Epoch 66/300\n",
            "2/2 - 0s - loss: 0.0473 - accuracy: 0.9480 - val_loss: 0.0627 - val_accuracy: 0.9200 - 347ms/epoch - 174ms/step\n",
            "Epoch 67/300\n",
            "2/2 - 0s - loss: 0.0473 - accuracy: 0.9467 - val_loss: 0.0638 - val_accuracy: 0.9200 - 334ms/epoch - 167ms/step\n",
            "Epoch 68/300\n",
            "2/2 - 0s - loss: 0.0480 - accuracy: 0.9467 - val_loss: 0.0550 - val_accuracy: 0.9400 - 320ms/epoch - 160ms/step\n",
            "Epoch 69/300\n",
            "2/2 - 0s - loss: 0.0447 - accuracy: 0.9480 - val_loss: 0.0607 - val_accuracy: 0.9200 - 327ms/epoch - 163ms/step\n",
            "Epoch 70/300\n",
            "2/2 - 0s - loss: 0.0445 - accuracy: 0.9493 - val_loss: 0.0553 - val_accuracy: 0.9400 - 328ms/epoch - 164ms/step\n",
            "Epoch 71/300\n",
            "2/2 - 0s - loss: 0.0432 - accuracy: 0.9507 - val_loss: 0.0622 - val_accuracy: 0.9200 - 320ms/epoch - 160ms/step\n",
            "Epoch 72/300\n",
            "2/2 - 0s - loss: 0.0435 - accuracy: 0.9520 - val_loss: 0.0572 - val_accuracy: 0.9400 - 329ms/epoch - 164ms/step\n",
            "Epoch 73/300\n",
            "2/2 - 0s - loss: 0.0415 - accuracy: 0.9560 - val_loss: 0.0555 - val_accuracy: 0.9600 - 319ms/epoch - 160ms/step\n",
            "Epoch 74/300\n",
            "2/2 - 0s - loss: 0.0402 - accuracy: 0.9533 - val_loss: 0.0567 - val_accuracy: 0.9400 - 327ms/epoch - 164ms/step\n",
            "Epoch 75/300\n",
            "2/2 - 0s - loss: 0.0405 - accuracy: 0.9573 - val_loss: 0.0557 - val_accuracy: 0.9400 - 331ms/epoch - 166ms/step\n",
            "Epoch 76/300\n",
            "2/2 - 0s - loss: 0.0394 - accuracy: 0.9573 - val_loss: 0.0617 - val_accuracy: 0.9200 - 327ms/epoch - 164ms/step\n",
            "Epoch 77/300\n",
            "2/2 - 0s - loss: 0.0399 - accuracy: 0.9573 - val_loss: 0.0695 - val_accuracy: 0.9200 - 325ms/epoch - 163ms/step\n",
            "Epoch 78/300\n",
            "2/2 - 0s - loss: 0.0460 - accuracy: 0.9467 - val_loss: 0.0600 - val_accuracy: 0.9200 - 319ms/epoch - 160ms/step\n",
            "Epoch 79/300\n",
            "2/2 - 0s - loss: 0.0421 - accuracy: 0.9520 - val_loss: 0.0685 - val_accuracy: 0.9000 - 329ms/epoch - 165ms/step\n",
            "Epoch 80/300\n",
            "2/2 - 0s - loss: 0.0419 - accuracy: 0.9533 - val_loss: 0.0753 - val_accuracy: 0.9200 - 328ms/epoch - 164ms/step\n",
            "Epoch 81/300\n",
            "2/2 - 0s - loss: 0.0444 - accuracy: 0.9507 - val_loss: 0.0827 - val_accuracy: 0.9000 - 323ms/epoch - 161ms/step\n",
            "Epoch 82/300\n",
            "2/2 - 0s - loss: 0.0553 - accuracy: 0.9320 - val_loss: 0.0602 - val_accuracy: 0.9200 - 325ms/epoch - 163ms/step\n",
            "Epoch 83/300\n",
            "2/2 - 0s - loss: 0.0422 - accuracy: 0.9560 - val_loss: 0.0645 - val_accuracy: 0.9000 - 327ms/epoch - 164ms/step\n",
            "Epoch 84/300\n",
            "2/2 - 0s - loss: 0.0437 - accuracy: 0.9507 - val_loss: 0.0545 - val_accuracy: 0.9400 - 324ms/epoch - 162ms/step\n",
            "Epoch 85/300\n",
            "2/2 - 0s - loss: 0.0476 - accuracy: 0.9453 - val_loss: 0.0836 - val_accuracy: 0.9000 - 317ms/epoch - 159ms/step\n",
            "Epoch 86/300\n",
            "2/2 - 0s - loss: 0.0583 - accuracy: 0.9267 - val_loss: 0.0901 - val_accuracy: 0.9000 - 327ms/epoch - 163ms/step\n",
            "Epoch 87/300\n",
            "2/2 - 0s - loss: 0.0601 - accuracy: 0.9280 - val_loss: 0.0843 - val_accuracy: 0.9000 - 326ms/epoch - 163ms/step\n",
            "Epoch 88/300\n",
            "2/2 - 0s - loss: 0.0536 - accuracy: 0.9360 - val_loss: 0.0629 - val_accuracy: 0.9200 - 319ms/epoch - 160ms/step\n",
            "Epoch 89/300\n",
            "2/2 - 0s - loss: 0.0455 - accuracy: 0.9507 - val_loss: 0.0506 - val_accuracy: 0.9600 - 329ms/epoch - 165ms/step\n",
            "Epoch 90/300\n",
            "2/2 - 0s - loss: 0.0401 - accuracy: 0.9533 - val_loss: 0.0619 - val_accuracy: 0.9200 - 326ms/epoch - 163ms/step\n",
            "Epoch 91/300\n",
            "2/2 - 0s - loss: 0.0420 - accuracy: 0.9520 - val_loss: 0.0550 - val_accuracy: 0.9400 - 324ms/epoch - 162ms/step\n",
            "Epoch 92/300\n",
            "2/2 - 0s - loss: 0.0395 - accuracy: 0.9573 - val_loss: 0.0693 - val_accuracy: 0.9200 - 327ms/epoch - 164ms/step\n",
            "Epoch 93/300\n",
            "2/2 - 0s - loss: 0.0419 - accuracy: 0.9520 - val_loss: 0.0637 - val_accuracy: 0.9000 - 325ms/epoch - 163ms/step\n",
            "Epoch 94/300\n",
            "2/2 - 0s - loss: 0.0429 - accuracy: 0.9507 - val_loss: 0.0670 - val_accuracy: 0.9200 - 325ms/epoch - 162ms/step\n",
            "Epoch 95/300\n",
            "2/2 - 0s - loss: 0.0424 - accuracy: 0.9533 - val_loss: 0.0624 - val_accuracy: 0.9000 - 323ms/epoch - 161ms/step\n",
            "Epoch 96/300\n",
            "2/2 - 0s - loss: 0.0425 - accuracy: 0.9533 - val_loss: 0.0505 - val_accuracy: 0.9600 - 322ms/epoch - 161ms/step\n",
            "Epoch 97/300\n",
            "2/2 - 0s - loss: 0.0366 - accuracy: 0.9627 - val_loss: 0.0626 - val_accuracy: 0.9200 - 326ms/epoch - 163ms/step\n",
            "Epoch 98/300\n",
            "2/2 - 0s - loss: 0.0411 - accuracy: 0.9573 - val_loss: 0.0515 - val_accuracy: 0.9400 - 326ms/epoch - 163ms/step\n",
            "Epoch 99/300\n",
            "2/2 - 0s - loss: 0.0372 - accuracy: 0.9613 - val_loss: 0.0508 - val_accuracy: 0.9600 - 317ms/epoch - 159ms/step\n",
            "Epoch 100/300\n",
            "2/2 - 0s - loss: 0.0367 - accuracy: 0.9600 - val_loss: 0.0511 - val_accuracy: 0.9600 - 323ms/epoch - 161ms/step\n",
            "Epoch 101/300\n",
            "2/2 - 0s - loss: 0.0355 - accuracy: 0.9613 - val_loss: 0.0606 - val_accuracy: 0.9200 - 357ms/epoch - 179ms/step\n",
            "Epoch 102/300\n",
            "2/2 - 0s - loss: 0.0370 - accuracy: 0.9613 - val_loss: 0.0568 - val_accuracy: 0.9200 - 332ms/epoch - 166ms/step\n",
            "Epoch 103/300\n",
            "2/2 - 0s - loss: 0.0369 - accuracy: 0.9587 - val_loss: 0.0573 - val_accuracy: 0.9200 - 333ms/epoch - 166ms/step\n",
            "Epoch 104/300\n",
            "2/2 - 0s - loss: 0.0363 - accuracy: 0.9627 - val_loss: 0.0523 - val_accuracy: 0.9400 - 328ms/epoch - 164ms/step\n",
            "Epoch 105/300\n",
            "2/2 - 0s - loss: 0.0351 - accuracy: 0.9627 - val_loss: 0.0537 - val_accuracy: 0.9400 - 322ms/epoch - 161ms/step\n",
            "Epoch 106/300\n",
            "2/2 - 0s - loss: 0.0353 - accuracy: 0.9627 - val_loss: 0.0613 - val_accuracy: 0.9200 - 314ms/epoch - 157ms/step\n",
            "Epoch 107/300\n",
            "2/2 - 0s - loss: 0.0363 - accuracy: 0.9640 - val_loss: 0.0583 - val_accuracy: 0.9200 - 330ms/epoch - 165ms/step\n",
            "Epoch 108/300\n",
            "2/2 - 0s - loss: 0.0368 - accuracy: 0.9560 - val_loss: 0.0542 - val_accuracy: 0.9400 - 329ms/epoch - 164ms/step\n",
            "Epoch 109/300\n",
            "2/2 - 0s - loss: 0.0378 - accuracy: 0.9587 - val_loss: 0.0807 - val_accuracy: 0.9000 - 317ms/epoch - 159ms/step\n",
            "Epoch 110/300\n",
            "2/2 - 0s - loss: 0.0465 - accuracy: 0.9400 - val_loss: 0.0660 - val_accuracy: 0.9200 - 332ms/epoch - 166ms/step\n",
            "Epoch 111/300\n",
            "2/2 - 0s - loss: 0.0428 - accuracy: 0.9493 - val_loss: 0.0535 - val_accuracy: 0.9400 - 327ms/epoch - 164ms/step\n",
            "Epoch 112/300\n",
            "2/2 - 0s - loss: 0.0352 - accuracy: 0.9640 - val_loss: 0.0504 - val_accuracy: 0.9600 - 324ms/epoch - 162ms/step\n",
            "Epoch 113/300\n",
            "2/2 - 0s - loss: 0.0348 - accuracy: 0.9667 - val_loss: 0.0515 - val_accuracy: 0.9400 - 325ms/epoch - 162ms/step\n",
            "Epoch 114/300\n",
            "2/2 - 0s - loss: 0.0362 - accuracy: 0.9587 - val_loss: 0.0659 - val_accuracy: 0.9200 - 327ms/epoch - 163ms/step\n",
            "Epoch 115/300\n",
            "2/2 - 0s - loss: 0.0376 - accuracy: 0.9627 - val_loss: 0.0625 - val_accuracy: 0.9200 - 324ms/epoch - 162ms/step\n",
            "Epoch 116/300\n",
            "2/2 - 0s - loss: 0.0397 - accuracy: 0.9533 - val_loss: 0.0843 - val_accuracy: 0.9000 - 325ms/epoch - 162ms/step\n",
            "Epoch 117/300\n",
            "2/2 - 0s - loss: 0.0448 - accuracy: 0.9453 - val_loss: 0.0648 - val_accuracy: 0.9000 - 330ms/epoch - 165ms/step\n",
            "Epoch 118/300\n",
            "2/2 - 0s - loss: 0.0392 - accuracy: 0.9547 - val_loss: 0.0669 - val_accuracy: 0.9200 - 326ms/epoch - 163ms/step\n",
            "Epoch 119/300\n",
            "2/2 - 0s - loss: 0.0366 - accuracy: 0.9627 - val_loss: 0.0563 - val_accuracy: 0.9200 - 324ms/epoch - 162ms/step\n",
            "Epoch 120/300\n",
            "2/2 - 0s - loss: 0.0369 - accuracy: 0.9573 - val_loss: 0.0710 - val_accuracy: 0.9200 - 326ms/epoch - 163ms/step\n",
            "Epoch 121/300\n",
            "2/2 - 0s - loss: 0.0382 - accuracy: 0.9600 - val_loss: 0.0521 - val_accuracy: 0.9400 - 327ms/epoch - 163ms/step\n",
            "Epoch 122/300\n",
            "2/2 - 0s - loss: 0.0347 - accuracy: 0.9613 - val_loss: 0.0870 - val_accuracy: 0.9000 - 325ms/epoch - 163ms/step\n",
            "Epoch 123/300\n",
            "2/2 - 0s - loss: 0.0453 - accuracy: 0.9440 - val_loss: 0.0838 - val_accuracy: 0.9000 - 317ms/epoch - 158ms/step\n",
            "Epoch 124/300\n",
            "2/2 - 0s - loss: 0.0480 - accuracy: 0.9413 - val_loss: 0.0859 - val_accuracy: 0.9000 - 327ms/epoch - 164ms/step\n",
            "Epoch 125/300\n",
            "2/2 - 0s - loss: 0.0456 - accuracy: 0.9440 - val_loss: 0.0507 - val_accuracy: 0.9600 - 329ms/epoch - 165ms/step\n",
            "Epoch 126/300\n",
            "2/2 - 0s - loss: 0.0368 - accuracy: 0.9587 - val_loss: 0.0627 - val_accuracy: 0.9200 - 321ms/epoch - 161ms/step\n",
            "Epoch 127/300\n",
            "2/2 - 0s - loss: 0.0358 - accuracy: 0.9640 - val_loss: 0.0524 - val_accuracy: 0.9400 - 317ms/epoch - 159ms/step\n",
            "Epoch 128/300\n",
            "2/2 - 0s - loss: 0.0347 - accuracy: 0.9627 - val_loss: 0.0667 - val_accuracy: 0.9200 - 319ms/epoch - 159ms/step\n",
            "Epoch 129/300\n",
            "2/2 - 0s - loss: 0.0359 - accuracy: 0.9653 - val_loss: 0.0534 - val_accuracy: 0.9200 - 325ms/epoch - 162ms/step\n",
            "Epoch 130/300\n",
            "2/2 - 0s - loss: 0.0359 - accuracy: 0.9600 - val_loss: 0.0676 - val_accuracy: 0.9200 - 331ms/epoch - 165ms/step\n",
            "Epoch 131/300\n",
            "2/2 - 0s - loss: 0.0435 - accuracy: 0.9493 - val_loss: 0.1063 - val_accuracy: 0.8600 - 327ms/epoch - 164ms/step\n",
            "Epoch 132/300\n",
            "2/2 - 0s - loss: 0.0623 - accuracy: 0.9213 - val_loss: 0.1039 - val_accuracy: 0.8800 - 323ms/epoch - 162ms/step\n",
            "Epoch 133/300\n",
            "2/2 - 0s - loss: 0.0578 - accuracy: 0.9293 - val_loss: 0.0793 - val_accuracy: 0.9000 - 326ms/epoch - 163ms/step\n",
            "Epoch 134/300\n",
            "2/2 - 0s - loss: 0.0448 - accuracy: 0.9453 - val_loss: 0.0930 - val_accuracy: 0.8800 - 326ms/epoch - 163ms/step\n",
            "Epoch 135/300\n",
            "2/2 - 0s - loss: 0.0485 - accuracy: 0.9400 - val_loss: 0.0600 - val_accuracy: 0.9000 - 331ms/epoch - 166ms/step\n",
            "Epoch 136/300\n",
            "2/2 - 0s - loss: 0.0413 - accuracy: 0.9547 - val_loss: 0.0627 - val_accuracy: 0.9200 - 327ms/epoch - 163ms/step\n",
            "Epoch 137/300\n",
            "2/2 - 0s - loss: 0.0391 - accuracy: 0.9573 - val_loss: 0.0461 - val_accuracy: 0.9600 - 327ms/epoch - 163ms/step\n",
            "Epoch 138/300\n",
            "2/2 - 0s - loss: 0.0402 - accuracy: 0.9560 - val_loss: 0.0477 - val_accuracy: 0.9400 - 316ms/epoch - 158ms/step\n",
            "Epoch 139/300\n",
            "2/2 - 0s - loss: 0.0352 - accuracy: 0.9627 - val_loss: 0.0681 - val_accuracy: 0.9200 - 328ms/epoch - 164ms/step\n",
            "Epoch 140/300\n",
            "2/2 - 0s - loss: 0.0375 - accuracy: 0.9600 - val_loss: 0.0741 - val_accuracy: 0.9000 - 326ms/epoch - 163ms/step\n",
            "Epoch 141/300\n",
            "2/2 - 0s - loss: 0.0436 - accuracy: 0.9453 - val_loss: 0.0868 - val_accuracy: 0.9000 - 320ms/epoch - 160ms/step\n",
            "Epoch 142/300\n",
            "2/2 - 0s - loss: 0.0443 - accuracy: 0.9480 - val_loss: 0.0613 - val_accuracy: 0.9000 - 312ms/epoch - 156ms/step\n",
            "Epoch 143/300\n",
            "2/2 - 0s - loss: 0.0399 - accuracy: 0.9547 - val_loss: 0.0679 - val_accuracy: 0.9200 - 323ms/epoch - 162ms/step\n",
            "Epoch 144/300\n",
            "2/2 - 0s - loss: 0.0397 - accuracy: 0.9600 - val_loss: 0.0459 - val_accuracy: 0.9600 - 328ms/epoch - 164ms/step\n",
            "Epoch 145/300\n",
            "2/2 - 0s - loss: 0.0374 - accuracy: 0.9613 - val_loss: 0.0457 - val_accuracy: 0.9600 - 327ms/epoch - 164ms/step\n",
            "Epoch 146/300\n",
            "2/2 - 0s - loss: 0.0384 - accuracy: 0.9573 - val_loss: 0.0579 - val_accuracy: 0.9200 - 325ms/epoch - 163ms/step\n",
            "Epoch 147/300\n",
            "2/2 - 0s - loss: 0.0361 - accuracy: 0.9587 - val_loss: 0.0457 - val_accuracy: 0.9600 - 328ms/epoch - 164ms/step\n",
            "Epoch 148/300\n",
            "2/2 - 0s - loss: 0.0330 - accuracy: 0.9653 - val_loss: 0.0595 - val_accuracy: 0.9200 - 328ms/epoch - 164ms/step\n",
            "Epoch 149/300\n",
            "2/2 - 0s - loss: 0.0335 - accuracy: 0.9653 - val_loss: 0.0468 - val_accuracy: 0.9600 - 313ms/epoch - 156ms/step\n",
            "Epoch 150/300\n",
            "2/2 - 0s - loss: 0.0327 - accuracy: 0.9667 - val_loss: 0.0473 - val_accuracy: 0.9600 - 319ms/epoch - 159ms/step\n",
            "Epoch 151/300\n",
            "2/2 - 0s - loss: 0.0318 - accuracy: 0.9653 - val_loss: 0.0520 - val_accuracy: 0.9400 - 309ms/epoch - 154ms/step\n",
            "Epoch 152/300\n",
            "2/2 - 0s - loss: 0.0321 - accuracy: 0.9667 - val_loss: 0.0483 - val_accuracy: 0.9600 - 318ms/epoch - 159ms/step\n",
            "Epoch 153/300\n",
            "2/2 - 0s - loss: 0.0323 - accuracy: 0.9680 - val_loss: 0.0500 - val_accuracy: 0.9400 - 319ms/epoch - 159ms/step\n",
            "Epoch 154/300\n",
            "2/2 - 0s - loss: 0.0317 - accuracy: 0.9667 - val_loss: 0.0534 - val_accuracy: 0.9400 - 328ms/epoch - 164ms/step\n",
            "Epoch 155/300\n",
            "2/2 - 0s - loss: 0.0315 - accuracy: 0.9667 - val_loss: 0.0525 - val_accuracy: 0.9400 - 331ms/epoch - 165ms/step\n",
            "Epoch 156/300\n",
            "2/2 - 0s - loss: 0.0333 - accuracy: 0.9653 - val_loss: 0.0503 - val_accuracy: 0.9600 - 324ms/epoch - 162ms/step\n",
            "Epoch 157/300\n",
            "2/2 - 0s - loss: 0.0312 - accuracy: 0.9680 - val_loss: 0.0499 - val_accuracy: 0.9600 - 320ms/epoch - 160ms/step\n",
            "Epoch 158/300\n",
            "2/2 - 0s - loss: 0.0310 - accuracy: 0.9680 - val_loss: 0.0498 - val_accuracy: 0.9600 - 322ms/epoch - 161ms/step\n",
            "Epoch 159/300\n",
            "2/2 - 0s - loss: 0.0308 - accuracy: 0.9680 - val_loss: 0.0500 - val_accuracy: 0.9600 - 327ms/epoch - 163ms/step\n",
            "Epoch 160/300\n",
            "2/2 - 0s - loss: 0.0307 - accuracy: 0.9680 - val_loss: 0.0514 - val_accuracy: 0.9400 - 327ms/epoch - 164ms/step\n",
            "Epoch 161/300\n",
            "2/2 - 0s - loss: 0.0307 - accuracy: 0.9693 - val_loss: 0.0504 - val_accuracy: 0.9600 - 326ms/epoch - 163ms/step\n",
            "Epoch 162/300\n",
            "2/2 - 0s - loss: 0.0307 - accuracy: 0.9693 - val_loss: 0.0509 - val_accuracy: 0.9400 - 323ms/epoch - 162ms/step\n",
            "Epoch 163/300\n",
            "2/2 - 0s - loss: 0.0306 - accuracy: 0.9693 - val_loss: 0.0502 - val_accuracy: 0.9600 - 318ms/epoch - 159ms/step\n",
            "Epoch 164/300\n",
            "2/2 - 0s - loss: 0.0306 - accuracy: 0.9693 - val_loss: 0.0495 - val_accuracy: 0.9600 - 318ms/epoch - 159ms/step\n",
            "Epoch 165/300\n",
            "2/2 - 0s - loss: 0.0313 - accuracy: 0.9680 - val_loss: 0.0494 - val_accuracy: 0.9600 - 329ms/epoch - 164ms/step\n",
            "Epoch 166/300\n",
            "2/2 - 0s - loss: 0.0312 - accuracy: 0.9693 - val_loss: 0.0502 - val_accuracy: 0.9400 - 334ms/epoch - 167ms/step\n",
            "Epoch 167/300\n",
            "2/2 - 0s - loss: 0.0308 - accuracy: 0.9680 - val_loss: 0.0493 - val_accuracy: 0.9600 - 326ms/epoch - 163ms/step\n",
            "Epoch 168/300\n",
            "2/2 - 0s - loss: 0.0307 - accuracy: 0.9693 - val_loss: 0.0492 - val_accuracy: 0.9600 - 317ms/epoch - 159ms/step\n",
            "Epoch 169/300\n",
            "2/2 - 0s - loss: 0.0303 - accuracy: 0.9707 - val_loss: 0.0576 - val_accuracy: 0.9200 - 323ms/epoch - 162ms/step\n",
            "Epoch 170/300\n",
            "2/2 - 0s - loss: 0.0303 - accuracy: 0.9693 - val_loss: 0.0550 - val_accuracy: 0.9200 - 326ms/epoch - 163ms/step\n",
            "Epoch 171/300\n",
            "2/2 - 0s - loss: 0.0310 - accuracy: 0.9693 - val_loss: 0.0568 - val_accuracy: 0.9200 - 330ms/epoch - 165ms/step\n",
            "Epoch 172/300\n",
            "2/2 - 0s - loss: 0.0305 - accuracy: 0.9693 - val_loss: 0.0493 - val_accuracy: 0.9600 - 327ms/epoch - 164ms/step\n",
            "Epoch 173/300\n",
            "2/2 - 0s - loss: 0.0297 - accuracy: 0.9707 - val_loss: 0.0499 - val_accuracy: 0.9400 - 324ms/epoch - 162ms/step\n",
            "Epoch 174/300\n",
            "2/2 - 0s - loss: 0.0301 - accuracy: 0.9693 - val_loss: 0.0498 - val_accuracy: 0.9600 - 329ms/epoch - 165ms/step\n",
            "Epoch 175/300\n",
            "2/2 - 0s - loss: 0.0295 - accuracy: 0.9707 - val_loss: 0.0504 - val_accuracy: 0.9400 - 329ms/epoch - 165ms/step\n",
            "Epoch 176/300\n",
            "2/2 - 0s - loss: 0.0297 - accuracy: 0.9707 - val_loss: 0.0548 - val_accuracy: 0.9400 - 324ms/epoch - 162ms/step\n",
            "Epoch 177/300\n",
            "2/2 - 0s - loss: 0.0299 - accuracy: 0.9693 - val_loss: 0.0500 - val_accuracy: 0.9600 - 330ms/epoch - 165ms/step\n",
            "Epoch 178/300\n",
            "2/2 - 0s - loss: 0.0294 - accuracy: 0.9707 - val_loss: 0.0504 - val_accuracy: 0.9600 - 326ms/epoch - 163ms/step\n",
            "Epoch 179/300\n",
            "2/2 - 0s - loss: 0.0293 - accuracy: 0.9707 - val_loss: 0.0523 - val_accuracy: 0.9400 - 327ms/epoch - 164ms/step\n",
            "Epoch 180/300\n",
            "2/2 - 0s - loss: 0.0296 - accuracy: 0.9693 - val_loss: 0.0549 - val_accuracy: 0.9400 - 317ms/epoch - 158ms/step\n",
            "Epoch 181/300\n",
            "2/2 - 0s - loss: 0.0295 - accuracy: 0.9693 - val_loss: 0.0513 - val_accuracy: 0.9400 - 323ms/epoch - 161ms/step\n",
            "Epoch 182/300\n",
            "2/2 - 0s - loss: 0.0290 - accuracy: 0.9707 - val_loss: 0.0516 - val_accuracy: 0.9400 - 324ms/epoch - 162ms/step\n",
            "Epoch 183/300\n",
            "2/2 - 0s - loss: 0.0294 - accuracy: 0.9720 - val_loss: 0.0646 - val_accuracy: 0.9200 - 324ms/epoch - 162ms/step\n",
            "Epoch 184/300\n",
            "2/2 - 0s - loss: 0.0305 - accuracy: 0.9693 - val_loss: 0.0499 - val_accuracy: 0.9600 - 326ms/epoch - 163ms/step\n",
            "Epoch 185/300\n",
            "2/2 - 0s - loss: 0.0289 - accuracy: 0.9720 - val_loss: 0.0497 - val_accuracy: 0.9600 - 330ms/epoch - 165ms/step\n",
            "Epoch 186/300\n",
            "2/2 - 0s - loss: 0.0293 - accuracy: 0.9707 - val_loss: 0.0507 - val_accuracy: 0.9400 - 329ms/epoch - 164ms/step\n",
            "Epoch 187/300\n",
            "2/2 - 0s - loss: 0.0289 - accuracy: 0.9707 - val_loss: 0.0519 - val_accuracy: 0.9400 - 330ms/epoch - 165ms/step\n",
            "Epoch 188/300\n",
            "2/2 - 0s - loss: 0.0298 - accuracy: 0.9693 - val_loss: 0.0498 - val_accuracy: 0.9600 - 327ms/epoch - 164ms/step\n",
            "Epoch 189/300\n",
            "2/2 - 0s - loss: 0.0285 - accuracy: 0.9720 - val_loss: 0.0498 - val_accuracy: 0.9600 - 323ms/epoch - 161ms/step\n",
            "Epoch 190/300\n",
            "2/2 - 0s - loss: 0.0285 - accuracy: 0.9720 - val_loss: 0.0565 - val_accuracy: 0.9400 - 330ms/epoch - 165ms/step\n",
            "Epoch 191/300\n",
            "2/2 - 0s - loss: 0.0288 - accuracy: 0.9707 - val_loss: 0.0494 - val_accuracy: 0.9600 - 320ms/epoch - 160ms/step\n",
            "Epoch 192/300\n",
            "2/2 - 0s - loss: 0.0284 - accuracy: 0.9720 - val_loss: 0.0562 - val_accuracy: 0.9400 - 324ms/epoch - 162ms/step\n",
            "Epoch 193/300\n",
            "2/2 - 0s - loss: 0.0292 - accuracy: 0.9693 - val_loss: 0.0579 - val_accuracy: 0.9200 - 318ms/epoch - 159ms/step\n",
            "Epoch 194/300\n",
            "2/2 - 0s - loss: 0.0302 - accuracy: 0.9707 - val_loss: 0.0715 - val_accuracy: 0.9200 - 325ms/epoch - 162ms/step\n",
            "Epoch 195/300\n",
            "2/2 - 0s - loss: 0.0301 - accuracy: 0.9693 - val_loss: 0.0531 - val_accuracy: 0.9400 - 324ms/epoch - 162ms/step\n",
            "Epoch 196/300\n",
            "2/2 - 0s - loss: 0.0292 - accuracy: 0.9720 - val_loss: 0.0653 - val_accuracy: 0.9200 - 332ms/epoch - 166ms/step\n",
            "Epoch 197/300\n",
            "2/2 - 0s - loss: 0.0293 - accuracy: 0.9693 - val_loss: 0.0492 - val_accuracy: 0.9600 - 317ms/epoch - 159ms/step\n",
            "Epoch 198/300\n",
            "2/2 - 0s - loss: 0.0286 - accuracy: 0.9720 - val_loss: 0.0542 - val_accuracy: 0.9400 - 332ms/epoch - 166ms/step\n",
            "Epoch 199/300\n",
            "2/2 - 0s - loss: 0.0282 - accuracy: 0.9720 - val_loss: 0.0627 - val_accuracy: 0.9200 - 322ms/epoch - 161ms/step\n",
            "Epoch 200/300\n",
            "2/2 - 0s - loss: 0.0287 - accuracy: 0.9707 - val_loss: 0.0488 - val_accuracy: 0.9400 - 328ms/epoch - 164ms/step\n",
            "Epoch 201/300\n",
            "2/2 - 0s - loss: 0.0286 - accuracy: 0.9720 - val_loss: 0.0557 - val_accuracy: 0.9400 - 322ms/epoch - 161ms/step\n",
            "Epoch 202/300\n",
            "2/2 - 0s - loss: 0.0281 - accuracy: 0.9720 - val_loss: 0.0492 - val_accuracy: 0.9600 - 329ms/epoch - 165ms/step\n",
            "Epoch 203/300\n",
            "2/2 - 0s - loss: 0.0280 - accuracy: 0.9720 - val_loss: 0.0594 - val_accuracy: 0.9200 - 326ms/epoch - 163ms/step\n",
            "Epoch 204/300\n",
            "2/2 - 0s - loss: 0.0284 - accuracy: 0.9720 - val_loss: 0.0500 - val_accuracy: 0.9400 - 316ms/epoch - 158ms/step\n",
            "Epoch 205/300\n",
            "2/2 - 0s - loss: 0.0289 - accuracy: 0.9720 - val_loss: 0.0904 - val_accuracy: 0.9000 - 316ms/epoch - 158ms/step\n",
            "Epoch 206/300\n",
            "2/2 - 0s - loss: 0.0329 - accuracy: 0.9653 - val_loss: 0.0725 - val_accuracy: 0.9000 - 332ms/epoch - 166ms/step\n",
            "Epoch 207/300\n",
            "2/2 - 0s - loss: 0.0423 - accuracy: 0.9493 - val_loss: 0.0595 - val_accuracy: 0.9400 - 328ms/epoch - 164ms/step\n",
            "Epoch 208/300\n",
            "2/2 - 0s - loss: 0.0324 - accuracy: 0.9640 - val_loss: 0.0622 - val_accuracy: 0.9200 - 323ms/epoch - 161ms/step\n",
            "Epoch 209/300\n",
            "2/2 - 0s - loss: 0.0287 - accuracy: 0.9720 - val_loss: 0.0490 - val_accuracy: 0.9400 - 326ms/epoch - 163ms/step\n",
            "Epoch 210/300\n",
            "2/2 - 0s - loss: 0.0283 - accuracy: 0.9720 - val_loss: 0.0521 - val_accuracy: 0.9400 - 324ms/epoch - 162ms/step\n",
            "Epoch 211/300\n",
            "2/2 - 0s - loss: 0.0292 - accuracy: 0.9693 - val_loss: 0.0609 - val_accuracy: 0.9400 - 326ms/epoch - 163ms/step\n",
            "Epoch 212/300\n",
            "2/2 - 0s - loss: 0.0311 - accuracy: 0.9667 - val_loss: 0.0768 - val_accuracy: 0.9000 - 331ms/epoch - 166ms/step\n",
            "Epoch 213/300\n",
            "2/2 - 0s - loss: 0.0304 - accuracy: 0.9680 - val_loss: 0.0608 - val_accuracy: 0.9400 - 318ms/epoch - 159ms/step\n",
            "Epoch 214/300\n",
            "2/2 - 0s - loss: 0.0292 - accuracy: 0.9680 - val_loss: 0.0762 - val_accuracy: 0.9000 - 328ms/epoch - 164ms/step\n",
            "Epoch 215/300\n",
            "2/2 - 0s - loss: 0.0300 - accuracy: 0.9680 - val_loss: 0.0492 - val_accuracy: 0.9600 - 323ms/epoch - 161ms/step\n",
            "Epoch 216/300\n",
            "2/2 - 0s - loss: 0.0292 - accuracy: 0.9693 - val_loss: 0.0790 - val_accuracy: 0.9000 - 330ms/epoch - 165ms/step\n",
            "Epoch 217/300\n",
            "2/2 - 0s - loss: 0.0316 - accuracy: 0.9667 - val_loss: 0.0550 - val_accuracy: 0.9400 - 329ms/epoch - 165ms/step\n",
            "Epoch 218/300\n",
            "2/2 - 0s - loss: 0.0296 - accuracy: 0.9707 - val_loss: 0.0493 - val_accuracy: 0.9400 - 329ms/epoch - 164ms/step\n",
            "Epoch 219/300\n",
            "2/2 - 0s - loss: 0.0276 - accuracy: 0.9720 - val_loss: 0.0579 - val_accuracy: 0.9400 - 330ms/epoch - 165ms/step\n",
            "Epoch 220/300\n",
            "2/2 - 0s - loss: 0.0278 - accuracy: 0.9720 - val_loss: 0.0476 - val_accuracy: 0.9600 - 330ms/epoch - 165ms/step\n",
            "Epoch 221/300\n",
            "2/2 - 0s - loss: 0.0280 - accuracy: 0.9720 - val_loss: 0.0745 - val_accuracy: 0.9200 - 338ms/epoch - 169ms/step\n",
            "Epoch 222/300\n",
            "2/2 - 0s - loss: 0.0297 - accuracy: 0.9693 - val_loss: 0.0483 - val_accuracy: 0.9600 - 323ms/epoch - 162ms/step\n",
            "Epoch 223/300\n",
            "2/2 - 0s - loss: 0.0282 - accuracy: 0.9707 - val_loss: 0.0606 - val_accuracy: 0.9200 - 321ms/epoch - 160ms/step\n",
            "Epoch 224/300\n",
            "2/2 - 0s - loss: 0.0292 - accuracy: 0.9707 - val_loss: 0.0490 - val_accuracy: 0.9400 - 331ms/epoch - 166ms/step\n",
            "Epoch 225/300\n",
            "2/2 - 0s - loss: 0.0359 - accuracy: 0.9587 - val_loss: 0.1153 - val_accuracy: 0.8800 - 323ms/epoch - 161ms/step\n",
            "Epoch 226/300\n",
            "2/2 - 0s - loss: 0.0578 - accuracy: 0.9293 - val_loss: 0.1233 - val_accuracy: 0.8400 - 327ms/epoch - 164ms/step\n",
            "Epoch 227/300\n",
            "2/2 - 0s - loss: 0.0770 - accuracy: 0.9013 - val_loss: 0.0897 - val_accuracy: 0.9000 - 328ms/epoch - 164ms/step\n",
            "Epoch 228/300\n",
            "2/2 - 0s - loss: 0.0486 - accuracy: 0.9467 - val_loss: 0.0484 - val_accuracy: 0.9400 - 328ms/epoch - 164ms/step\n",
            "Epoch 229/300\n",
            "2/2 - 0s - loss: 0.0345 - accuracy: 0.9627 - val_loss: 0.1051 - val_accuracy: 0.8800 - 321ms/epoch - 160ms/step\n",
            "Epoch 230/300\n",
            "2/2 - 0s - loss: 0.0443 - accuracy: 0.9480 - val_loss: 0.1070 - val_accuracy: 0.8400 - 328ms/epoch - 164ms/step\n",
            "Epoch 231/300\n",
            "2/2 - 0s - loss: 0.0519 - accuracy: 0.9373 - val_loss: 0.1240 - val_accuracy: 0.8800 - 331ms/epoch - 165ms/step\n",
            "Epoch 232/300\n",
            "2/2 - 0s - loss: 0.0841 - accuracy: 0.9013 - val_loss: 0.1146 - val_accuracy: 0.8400 - 332ms/epoch - 166ms/step\n",
            "Epoch 233/300\n",
            "2/2 - 0s - loss: 0.0638 - accuracy: 0.9120 - val_loss: 0.1025 - val_accuracy: 0.8800 - 324ms/epoch - 162ms/step\n",
            "Epoch 234/300\n",
            "2/2 - 0s - loss: 0.0527 - accuracy: 0.9347 - val_loss: 0.0445 - val_accuracy: 0.9600 - 326ms/epoch - 163ms/step\n",
            "Epoch 235/300\n",
            "2/2 - 0s - loss: 0.0384 - accuracy: 0.9533 - val_loss: 0.0476 - val_accuracy: 0.9400 - 324ms/epoch - 162ms/step\n",
            "Epoch 236/300\n",
            "2/2 - 0s - loss: 0.0326 - accuracy: 0.9653 - val_loss: 0.0699 - val_accuracy: 0.9200 - 330ms/epoch - 165ms/step\n",
            "Epoch 237/300\n",
            "2/2 - 0s - loss: 0.0337 - accuracy: 0.9627 - val_loss: 0.0512 - val_accuracy: 0.9600 - 326ms/epoch - 163ms/step\n",
            "Epoch 238/300\n",
            "2/2 - 0s - loss: 0.0364 - accuracy: 0.9573 - val_loss: 0.0557 - val_accuracy: 0.9400 - 323ms/epoch - 162ms/step\n",
            "Epoch 239/300\n",
            "2/2 - 0s - loss: 0.0329 - accuracy: 0.9640 - val_loss: 0.0576 - val_accuracy: 0.9200 - 321ms/epoch - 161ms/step\n",
            "Epoch 240/300\n",
            "2/2 - 0s - loss: 0.0325 - accuracy: 0.9640 - val_loss: 0.0452 - val_accuracy: 0.9600 - 324ms/epoch - 162ms/step\n",
            "Epoch 241/300\n",
            "2/2 - 0s - loss: 0.0297 - accuracy: 0.9693 - val_loss: 0.0557 - val_accuracy: 0.9200 - 328ms/epoch - 164ms/step\n",
            "Epoch 242/300\n",
            "2/2 - 0s - loss: 0.0295 - accuracy: 0.9693 - val_loss: 0.0454 - val_accuracy: 0.9600 - 320ms/epoch - 160ms/step\n",
            "Epoch 243/300\n",
            "2/2 - 0s - loss: 0.0291 - accuracy: 0.9693 - val_loss: 0.0573 - val_accuracy: 0.9200 - 326ms/epoch - 163ms/step\n",
            "Epoch 244/300\n",
            "2/2 - 0s - loss: 0.0295 - accuracy: 0.9680 - val_loss: 0.0527 - val_accuracy: 0.9400 - 317ms/epoch - 158ms/step\n",
            "Epoch 245/300\n",
            "2/2 - 0s - loss: 0.0287 - accuracy: 0.9693 - val_loss: 0.0477 - val_accuracy: 0.9600 - 326ms/epoch - 163ms/step\n",
            "Epoch 246/300\n",
            "2/2 - 0s - loss: 0.0284 - accuracy: 0.9720 - val_loss: 0.0648 - val_accuracy: 0.9200 - 327ms/epoch - 164ms/step\n",
            "Epoch 247/300\n",
            "2/2 - 0s - loss: 0.0292 - accuracy: 0.9707 - val_loss: 0.0485 - val_accuracy: 0.9600 - 327ms/epoch - 163ms/step\n",
            "Epoch 248/300\n",
            "2/2 - 0s - loss: 0.0286 - accuracy: 0.9733 - val_loss: 0.0478 - val_accuracy: 0.9600 - 325ms/epoch - 163ms/step\n",
            "Epoch 249/300\n",
            "2/2 - 0s - loss: 0.0272 - accuracy: 0.9733 - val_loss: 0.0619 - val_accuracy: 0.9200 - 325ms/epoch - 163ms/step\n",
            "Epoch 250/300\n",
            "2/2 - 0s - loss: 0.0281 - accuracy: 0.9720 - val_loss: 0.0479 - val_accuracy: 0.9600 - 329ms/epoch - 165ms/step\n",
            "Epoch 251/300\n",
            "2/2 - 0s - loss: 0.0283 - accuracy: 0.9733 - val_loss: 0.0648 - val_accuracy: 0.9200 - 325ms/epoch - 162ms/step\n",
            "Epoch 252/300\n",
            "2/2 - 0s - loss: 0.0300 - accuracy: 0.9680 - val_loss: 0.0549 - val_accuracy: 0.9400 - 321ms/epoch - 161ms/step\n",
            "Epoch 253/300\n",
            "2/2 - 0s - loss: 0.0288 - accuracy: 0.9693 - val_loss: 0.0550 - val_accuracy: 0.9400 - 317ms/epoch - 159ms/step\n",
            "Epoch 254/300\n",
            "2/2 - 0s - loss: 0.0295 - accuracy: 0.9693 - val_loss: 0.0514 - val_accuracy: 0.9400 - 325ms/epoch - 162ms/step\n",
            "Epoch 255/300\n",
            "2/2 - 0s - loss: 0.0284 - accuracy: 0.9707 - val_loss: 0.0466 - val_accuracy: 0.9600 - 328ms/epoch - 164ms/step\n",
            "Epoch 256/300\n",
            "2/2 - 0s - loss: 0.0281 - accuracy: 0.9720 - val_loss: 0.0603 - val_accuracy: 0.9200 - 322ms/epoch - 161ms/step\n",
            "Epoch 257/300\n",
            "2/2 - 0s - loss: 0.0274 - accuracy: 0.9733 - val_loss: 0.0469 - val_accuracy: 0.9600 - 325ms/epoch - 162ms/step\n",
            "Epoch 258/300\n",
            "2/2 - 0s - loss: 0.0270 - accuracy: 0.9733 - val_loss: 0.0497 - val_accuracy: 0.9400 - 333ms/epoch - 167ms/step\n",
            "Epoch 259/300\n",
            "2/2 - 0s - loss: 0.0266 - accuracy: 0.9733 - val_loss: 0.0516 - val_accuracy: 0.9400 - 327ms/epoch - 163ms/step\n",
            "Epoch 260/300\n",
            "2/2 - 0s - loss: 0.0264 - accuracy: 0.9733 - val_loss: 0.0467 - val_accuracy: 0.9600 - 323ms/epoch - 162ms/step\n",
            "Epoch 261/300\n",
            "2/2 - 0s - loss: 0.0268 - accuracy: 0.9733 - val_loss: 0.0507 - val_accuracy: 0.9400 - 328ms/epoch - 164ms/step\n",
            "Epoch 262/300\n",
            "2/2 - 0s - loss: 0.0264 - accuracy: 0.9733 - val_loss: 0.0527 - val_accuracy: 0.9400 - 335ms/epoch - 167ms/step\n",
            "Epoch 263/300\n",
            "2/2 - 0s - loss: 0.0262 - accuracy: 0.9733 - val_loss: 0.0481 - val_accuracy: 0.9600 - 328ms/epoch - 164ms/step\n",
            "Epoch 264/300\n",
            "2/2 - 0s - loss: 0.0271 - accuracy: 0.9733 - val_loss: 0.0718 - val_accuracy: 0.9200 - 325ms/epoch - 162ms/step\n",
            "Epoch 265/300\n",
            "2/2 - 0s - loss: 0.0285 - accuracy: 0.9707 - val_loss: 0.0607 - val_accuracy: 0.9200 - 325ms/epoch - 163ms/step\n",
            "Epoch 266/300\n",
            "2/2 - 0s - loss: 0.0267 - accuracy: 0.9733 - val_loss: 0.0504 - val_accuracy: 0.9400 - 334ms/epoch - 167ms/step\n",
            "Epoch 267/300\n",
            "2/2 - 0s - loss: 0.0269 - accuracy: 0.9747 - val_loss: 0.0735 - val_accuracy: 0.9200 - 322ms/epoch - 161ms/step\n",
            "Epoch 268/300\n",
            "2/2 - 0s - loss: 0.0277 - accuracy: 0.9720 - val_loss: 0.0489 - val_accuracy: 0.9600 - 329ms/epoch - 165ms/step\n",
            "Epoch 269/300\n",
            "2/2 - 0s - loss: 0.0267 - accuracy: 0.9720 - val_loss: 0.0521 - val_accuracy: 0.9400 - 329ms/epoch - 164ms/step\n",
            "Epoch 270/300\n",
            "2/2 - 0s - loss: 0.0275 - accuracy: 0.9707 - val_loss: 0.0511 - val_accuracy: 0.9400 - 323ms/epoch - 162ms/step\n",
            "Epoch 271/300\n",
            "2/2 - 0s - loss: 0.0285 - accuracy: 0.9667 - val_loss: 0.0853 - val_accuracy: 0.9000 - 326ms/epoch - 163ms/step\n",
            "Epoch 272/300\n",
            "2/2 - 0s - loss: 0.0324 - accuracy: 0.9653 - val_loss: 0.0701 - val_accuracy: 0.9200 - 330ms/epoch - 165ms/step\n",
            "Epoch 273/300\n",
            "2/2 - 0s - loss: 0.0332 - accuracy: 0.9600 - val_loss: 0.0638 - val_accuracy: 0.9200 - 329ms/epoch - 164ms/step\n",
            "Epoch 274/300\n",
            "2/2 - 0s - loss: 0.0288 - accuracy: 0.9693 - val_loss: 0.0502 - val_accuracy: 0.9400 - 318ms/epoch - 159ms/step\n",
            "Epoch 275/300\n",
            "2/2 - 0s - loss: 0.0286 - accuracy: 0.9707 - val_loss: 0.0509 - val_accuracy: 0.9400 - 320ms/epoch - 160ms/step\n",
            "Epoch 276/300\n",
            "2/2 - 0s - loss: 0.0266 - accuracy: 0.9720 - val_loss: 0.0788 - val_accuracy: 0.9000 - 321ms/epoch - 161ms/step\n",
            "Epoch 277/300\n",
            "2/2 - 0s - loss: 0.0278 - accuracy: 0.9720 - val_loss: 0.0634 - val_accuracy: 0.9200 - 334ms/epoch - 167ms/step\n",
            "Epoch 278/300\n",
            "2/2 - 0s - loss: 0.0307 - accuracy: 0.9653 - val_loss: 0.0992 - val_accuracy: 0.8800 - 329ms/epoch - 165ms/step\n",
            "Epoch 279/300\n",
            "2/2 - 0s - loss: 0.0326 - accuracy: 0.9653 - val_loss: 0.1264 - val_accuracy: 0.8400 - 322ms/epoch - 161ms/step\n",
            "Epoch 280/300\n",
            "2/2 - 0s - loss: 0.0616 - accuracy: 0.9187 - val_loss: 0.1084 - val_accuracy: 0.8800 - 326ms/epoch - 163ms/step\n",
            "Epoch 281/300\n",
            "2/2 - 0s - loss: 0.0533 - accuracy: 0.9333 - val_loss: 0.0427 - val_accuracy: 0.9600 - 315ms/epoch - 158ms/step\n",
            "Epoch 282/300\n",
            "2/2 - 0s - loss: 0.0293 - accuracy: 0.9680 - val_loss: 0.0994 - val_accuracy: 0.8800 - 316ms/epoch - 158ms/step\n",
            "Epoch 283/300\n",
            "2/2 - 0s - loss: 0.0373 - accuracy: 0.9560 - val_loss: 0.0678 - val_accuracy: 0.9000 - 320ms/epoch - 160ms/step\n",
            "Epoch 284/300\n",
            "2/2 - 0s - loss: 0.0355 - accuracy: 0.9613 - val_loss: 0.0861 - val_accuracy: 0.9000 - 313ms/epoch - 157ms/step\n",
            "Epoch 285/300\n",
            "2/2 - 0s - loss: 0.0386 - accuracy: 0.9600 - val_loss: 0.0418 - val_accuracy: 0.9600 - 328ms/epoch - 164ms/step\n",
            "Epoch 286/300\n",
            "2/2 - 0s - loss: 0.0392 - accuracy: 0.9520 - val_loss: 0.0622 - val_accuracy: 0.9400 - 326ms/epoch - 163ms/step\n",
            "Epoch 287/300\n",
            "2/2 - 0s - loss: 0.0416 - accuracy: 0.9493 - val_loss: 0.0526 - val_accuracy: 0.9400 - 325ms/epoch - 162ms/step\n",
            "Epoch 288/300\n",
            "2/2 - 0s - loss: 0.0400 - accuracy: 0.9520 - val_loss: 0.0506 - val_accuracy: 0.9400 - 332ms/epoch - 166ms/step\n",
            "Epoch 289/300\n",
            "2/2 - 0s - loss: 0.0355 - accuracy: 0.9587 - val_loss: 0.0439 - val_accuracy: 0.9600 - 324ms/epoch - 162ms/step\n",
            "Epoch 290/300\n",
            "2/2 - 0s - loss: 0.0376 - accuracy: 0.9600 - val_loss: 0.0468 - val_accuracy: 0.9400 - 326ms/epoch - 163ms/step\n",
            "Epoch 291/300\n",
            "2/2 - 0s - loss: 0.0314 - accuracy: 0.9693 - val_loss: 0.0785 - val_accuracy: 0.9000 - 325ms/epoch - 162ms/step\n",
            "Epoch 292/300\n",
            "2/2 - 0s - loss: 0.0308 - accuracy: 0.9693 - val_loss: 0.0537 - val_accuracy: 0.9400 - 325ms/epoch - 163ms/step\n",
            "Epoch 293/300\n",
            "2/2 - 0s - loss: 0.0318 - accuracy: 0.9627 - val_loss: 0.0621 - val_accuracy: 0.9200 - 326ms/epoch - 163ms/step\n",
            "Epoch 294/300\n",
            "2/2 - 0s - loss: 0.0312 - accuracy: 0.9667 - val_loss: 0.0671 - val_accuracy: 0.9200 - 322ms/epoch - 161ms/step\n",
            "Epoch 295/300\n",
            "2/2 - 0s - loss: 0.0293 - accuracy: 0.9680 - val_loss: 0.0642 - val_accuracy: 0.9200 - 332ms/epoch - 166ms/step\n",
            "Epoch 296/300\n",
            "2/2 - 0s - loss: 0.0329 - accuracy: 0.9653 - val_loss: 0.0724 - val_accuracy: 0.9200 - 328ms/epoch - 164ms/step\n",
            "Epoch 297/300\n",
            "2/2 - 0s - loss: 0.0316 - accuracy: 0.9640 - val_loss: 0.0436 - val_accuracy: 0.9600 - 330ms/epoch - 165ms/step\n",
            "Epoch 298/300\n",
            "2/2 - 0s - loss: 0.0302 - accuracy: 0.9680 - val_loss: 0.0440 - val_accuracy: 0.9600 - 322ms/epoch - 161ms/step\n",
            "Epoch 299/300\n",
            "2/2 - 0s - loss: 0.0270 - accuracy: 0.9733 - val_loss: 0.0900 - val_accuracy: 0.8800 - 323ms/epoch - 162ms/step\n",
            "Epoch 300/300\n",
            "2/2 - 0s - loss: 0.0319 - accuracy: 0.9667 - val_loss: 0.0598 - val_accuracy: 0.9200 - 287ms/epoch - 143ms/step\n"
          ]
        }
      ],
      "source": [
        "epoch = 300\n",
        "batchS = 500\n",
        "\n",
        "history = model.fit(np.array(data[0:750]), np.array(target[0:750]), epochs=epoch,\n",
        "                    validation_data=(np.array(data[750:]), np.array(target[750:])), \n",
        "                    batch_size=batchS, verbose=2)"
      ]
    },
    {
      "cell_type": "markdown",
      "metadata": {
        "id": "BVJCgz3bA4A3"
      },
      "source": [
        "## Test the model"
      ]
    },
    {
      "cell_type": "markdown",
      "metadata": {
        "id": "3MwCq0LpA59G"
      },
      "source": [
        "We are going to test the model with 20 % of the total videos. This videos have not been used to train the network. "
      ]
    },
    {
      "cell_type": "code",
      "execution_count": null,
      "metadata": {
        "colab": {
          "base_uri": "https://localhost:8080/"
        },
        "id": "VDXFFy6zBG3X",
        "outputId": "1e914623-67d0-4732-9b54-e3dd4ee144a1"
      },
      "outputs": [
        {
          "output_type": "stream",
          "name": "stdout",
          "text": [
            "7/7 [==============================] - 0s 10ms/step - loss: 0.0735 - accuracy: 0.9200\n"
          ]
        }
      ],
      "source": [
        "result = model.evaluate(np.array(data_test), np.array(target_test))"
      ]
    },
    {
      "cell_type": "markdown",
      "metadata": {
        "id": "8YG-bPW4BL6U"
      },
      "source": [
        "## Print the model accuracy"
      ]
    },
    {
      "cell_type": "code",
      "execution_count": null,
      "metadata": {
        "colab": {
          "base_uri": "https://localhost:8080/"
        },
        "id": "wBV2t2Q6BOt9",
        "outputId": "12425b3a-14f8-4a50-828c-3b3e93fd0134"
      },
      "outputs": [
        {
          "output_type": "stream",
          "name": "stdout",
          "text": [
            "loss 0.07354237884283066\n",
            "accuracy 0.9200000166893005\n"
          ]
        }
      ],
      "source": [
        "for name, value in zip(model.metrics_names, result):\n",
        "    print(name, value)"
      ]
    },
    {
      "cell_type": "code",
      "source": [
        "# from google.colab import files\n",
        "# files.download('prueba.h5')\n",
        "# files.download('pruebavalidation.h5')"
      ],
      "metadata": {
        "id": "JNIP2gOutiCG"
      },
      "execution_count": null,
      "outputs": []
    },
    {
      "cell_type": "code",
      "source": [
        "import pickle"
      ],
      "metadata": {
        "id": "Q-X2nAsJFLox"
      },
      "execution_count": null,
      "outputs": []
    },
    {
      "cell_type": "code",
      "source": [
        "pickle.dump(model, open('model.pkl','wb'))\n",
        "# files.download('model.pkl')"
      ],
      "metadata": {
        "colab": {
          "base_uri": "https://localhost:8080/",
          "height": 106
        },
        "id": "klgqyebdE1lj",
        "outputId": "0b16ef8f-e6f2-443f-b672-15c6fd436714"
      },
      "execution_count": null,
      "outputs": [
        {
          "output_type": "stream",
          "name": "stderr",
          "text": [
            "WARNING:absl:Found untraced functions such as lstm_cell_layer_call_fn, lstm_cell_layer_call_and_return_conditional_losses, lstm_cell_layer_call_fn, lstm_cell_layer_call_and_return_conditional_losses, lstm_cell_layer_call_and_return_conditional_losses while saving (showing 5 of 5). These functions will not be directly callable after loading.\n"
          ]
        },
        {
          "output_type": "stream",
          "name": "stdout",
          "text": [
            "INFO:tensorflow:Assets written to: ram://e2b69d8d-7aae-470d-a795-8a1eccc99932/assets\n"
          ]
        },
        {
          "output_type": "stream",
          "name": "stderr",
          "text": [
            "INFO:tensorflow:Assets written to: ram://e2b69d8d-7aae-470d-a795-8a1eccc99932/assets\n",
            "WARNING:absl:<keras.layers.recurrent.LSTMCell object at 0x7fa64aed5ad0> has the same name 'LSTMCell' as a built-in Keras object. Consider renaming <class 'keras.layers.recurrent.LSTMCell'> to avoid naming conflicts when loading with `tf.keras.models.load_model`. If renaming is not possible, pass the object in the `custom_objects` parameter of the load function.\n"
          ]
        },
        {
          "output_type": "display_data",
          "data": {
            "application/javascript": [
              "\n",
              "    async function download(id, filename, size) {\n",
              "      if (!google.colab.kernel.accessAllowed) {\n",
              "        return;\n",
              "      }\n",
              "      const div = document.createElement('div');\n",
              "      const label = document.createElement('label');\n",
              "      label.textContent = `Downloading \"${filename}\": `;\n",
              "      div.appendChild(label);\n",
              "      const progress = document.createElement('progress');\n",
              "      progress.max = size;\n",
              "      div.appendChild(progress);\n",
              "      document.body.appendChild(div);\n",
              "\n",
              "      const buffers = [];\n",
              "      let downloaded = 0;\n",
              "\n",
              "      const channel = await google.colab.kernel.comms.open(id);\n",
              "      // Send a message to notify the kernel that we're ready.\n",
              "      channel.send({})\n",
              "\n",
              "      for await (const message of channel.messages) {\n",
              "        // Send a message to notify the kernel that we're ready.\n",
              "        channel.send({})\n",
              "        if (message.buffers) {\n",
              "          for (const buffer of message.buffers) {\n",
              "            buffers.push(buffer);\n",
              "            downloaded += buffer.byteLength;\n",
              "            progress.value = downloaded;\n",
              "          }\n",
              "        }\n",
              "      }\n",
              "      const blob = new Blob(buffers, {type: 'application/binary'});\n",
              "      const a = document.createElement('a');\n",
              "      a.href = window.URL.createObjectURL(blob);\n",
              "      a.download = filename;\n",
              "      div.appendChild(a);\n",
              "      a.click();\n",
              "      div.remove();\n",
              "    }\n",
              "  "
            ],
            "text/plain": [
              "<IPython.core.display.Javascript object>"
            ]
          },
          "metadata": {}
        },
        {
          "output_type": "display_data",
          "data": {
            "application/javascript": [
              "download(\"download_309d37e1-b3e5-494c-9f03-5328e71f4ca6\", \"model.pkl\", 121026786)"
            ],
            "text/plain": [
              "<IPython.core.display.Javascript object>"
            ]
          },
          "metadata": {}
        }
      ]
    },
    {
      "cell_type": "code",
      "source": [
        "model.save('model')"
      ],
      "metadata": {
        "colab": {
          "base_uri": "https://localhost:8080/"
        },
        "id": "sQW_Yjo4Ldk_",
        "outputId": "1f340dd3-873a-42ba-bc69-c8b839419067"
      },
      "execution_count": null,
      "outputs": [
        {
          "output_type": "stream",
          "name": "stderr",
          "text": [
            "WARNING:absl:Found untraced functions such as lstm_cell_layer_call_fn, lstm_cell_layer_call_and_return_conditional_losses, lstm_cell_layer_call_fn, lstm_cell_layer_call_and_return_conditional_losses, lstm_cell_layer_call_and_return_conditional_losses while saving (showing 5 of 5). These functions will not be directly callable after loading.\n"
          ]
        },
        {
          "output_type": "stream",
          "name": "stdout",
          "text": [
            "INFO:tensorflow:Assets written to: model/assets\n"
          ]
        },
        {
          "output_type": "stream",
          "name": "stderr",
          "text": [
            "INFO:tensorflow:Assets written to: model/assets\n",
            "WARNING:absl:<keras.layers.recurrent.LSTMCell object at 0x7fa64aed5ad0> has the same name 'LSTMCell' as a built-in Keras object. Consider renaming <class 'keras.layers.recurrent.LSTMCell'> to avoid naming conflicts when loading with `tf.keras.models.load_model`. If renaming is not possible, pass the object in the `custom_objects` parameter of the load function.\n"
          ]
        }
      ]
    },
    {
      "cell_type": "code",
      "source": [
        "import shutil\n",
        "\n",
        "zip_name = 'wholemodel'\n",
        "directory_name = 'model'\n",
        "\n",
        "# Create 'path\\to\\zip_file.zip'\n",
        "shutil.make_archive(zip_name, 'zip', directory_name)"
      ],
      "metadata": {
        "colab": {
          "base_uri": "https://localhost:8080/",
          "height": 35
        },
        "id": "4d__4qjKL-Qx",
        "outputId": "41eaea54-babb-44c9-ab2c-17d2c12ca282"
      },
      "execution_count": null,
      "outputs": [
        {
          "output_type": "execute_result",
          "data": {
            "application/vnd.google.colaboratory.intrinsic+json": {
              "type": "string"
            },
            "text/plain": [
              "'/content/wholemodel.zip'"
            ]
          },
          "metadata": {},
          "execution_count": 53
        }
      ]
    },
    {
      "cell_type": "code",
      "source": [
        "files.download('wholemodel.zip')"
      ],
      "metadata": {
        "colab": {
          "base_uri": "https://localhost:8080/",
          "height": 34
        },
        "id": "yr9mEXmtMVPo",
        "outputId": "398faed4-eb8c-4ac7-9c12-bed2132951c4"
      },
      "execution_count": null,
      "outputs": [
        {
          "output_type": "display_data",
          "data": {
            "application/javascript": [
              "\n",
              "    async function download(id, filename, size) {\n",
              "      if (!google.colab.kernel.accessAllowed) {\n",
              "        return;\n",
              "      }\n",
              "      const div = document.createElement('div');\n",
              "      const label = document.createElement('label');\n",
              "      label.textContent = `Downloading \"${filename}\": `;\n",
              "      div.appendChild(label);\n",
              "      const progress = document.createElement('progress');\n",
              "      progress.max = size;\n",
              "      div.appendChild(progress);\n",
              "      document.body.appendChild(div);\n",
              "\n",
              "      const buffers = [];\n",
              "      let downloaded = 0;\n",
              "\n",
              "      const channel = await google.colab.kernel.comms.open(id);\n",
              "      // Send a message to notify the kernel that we're ready.\n",
              "      channel.send({})\n",
              "\n",
              "      for await (const message of channel.messages) {\n",
              "        // Send a message to notify the kernel that we're ready.\n",
              "        channel.send({})\n",
              "        if (message.buffers) {\n",
              "          for (const buffer of message.buffers) {\n",
              "            buffers.push(buffer);\n",
              "            downloaded += buffer.byteLength;\n",
              "            progress.value = downloaded;\n",
              "          }\n",
              "        }\n",
              "      }\n",
              "      const blob = new Blob(buffers, {type: 'application/binary'});\n",
              "      const a = document.createElement('a');\n",
              "      a.href = window.URL.createObjectURL(blob);\n",
              "      a.download = filename;\n",
              "      div.appendChild(a);\n",
              "      a.click();\n",
              "      div.remove();\n",
              "    }\n",
              "  "
            ],
            "text/plain": [
              "<IPython.core.display.Javascript object>"
            ]
          },
          "metadata": {}
        },
        {
          "output_type": "display_data",
          "data": {
            "application/javascript": [
              "download(\"download_c3af5310-70dd-4703-89d3-8d126863172e\", \"wholemodel.zip\", 97612289)"
            ],
            "text/plain": [
              "<IPython.core.display.Javascript object>"
            ]
          },
          "metadata": {}
        }
      ]
    }
  ],
  "metadata": {
    "accelerator": "GPU",
    "colab": {
      "collapsed_sections": [
        "nRQW1dLqOVO_",
        "L8w5vbqMObaw",
        "UVXa7uMnOlkp",
        "v6pf1l28PzIO",
        "tRf-KgkjP9Kt",
        "kMR6iqg4SaOl",
        "BsIrL3ix4Edp",
        "bVonOPYW7F_b"
      ],
      "name": "ViolenceDetectionFinal.ipynb",
      "provenance": []
    },
    "kernelspec": {
      "display_name": "Python 3",
      "name": "python3"
    },
    "language_info": {
      "codemirror_mode": {
        "name": "ipython",
        "version": 3
      },
      "file_extension": ".py",
      "mimetype": "text/x-python",
      "name": "python",
      "nbconvert_exporter": "python",
      "pygments_lexer": "ipython3",
      "version": "3.8.8"
    }
  },
  "nbformat": 4,
  "nbformat_minor": 0
}